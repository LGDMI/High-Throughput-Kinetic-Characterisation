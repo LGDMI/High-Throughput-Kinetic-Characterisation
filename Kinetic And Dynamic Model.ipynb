{
 "cells": [
  {
   "cell_type": "markdown",
   "metadata": {},
   "source": [
    "# Introduction"
   ]
  },
  {
   "cell_type": "markdown",
   "metadata": {},
   "source": [
    "This notebook is a step-by-step walkthrough to:\n",
    "1. Extract kinetic parameters from a set of growthrate-data (e.g. as obtained from GrowthCurveProcessing.R, but any set of growth rate data could be used here)\n",
    "2. Use the obtained kinetic parameters in the developed dynamic mass-balance model for growth of and production by Clostridium kluyveri.\n",
    "\n",
    "Both goals can be adapted for other purposes and applications. The applied mathematical equations and stoichiometry can be adapted to fit the process under investigation, while the the method and steps in the approach remain the same.\n",
    "\n",
    "To run this code, the pyIDEAS package (Van Daele, 2015), needs to be installed. This code is publicly available at github.com/FILLINNAMEHERE"
   ]
  },
  {
   "cell_type": "markdown",
   "metadata": {},
   "source": [
    "# Preamble"
   ]
  },
  {
   "cell_type": "code",
   "execution_count": 1,
   "metadata": {
    "collapsed": false
   },
   "outputs": [],
   "source": [
    "import pandas as pd\n",
    "import numpy as np\n",
    "import collections"
   ]
  },
  {
   "cell_type": "code",
   "execution_count": 2,
   "metadata": {
    "collapsed": true
   },
   "outputs": [],
   "source": [
    "import matplotlib.pyplot as plt"
   ]
  },
  {
   "cell_type": "code",
   "execution_count": 3,
   "metadata": {
    "collapsed": true
   },
   "outputs": [],
   "source": [
    "from pyideas import (Model,AlgebraicModel, Measurements, ParameterOptimisation,\n",
    "                      CalibratedConfidence, ModPar)"
   ]
  },
  {
   "cell_type": "code",
   "execution_count": 4,
   "metadata": {
    "collapsed": true
   },
   "outputs": [],
   "source": [
    "%matplotlib inline"
   ]
  },
  {
   "cell_type": "markdown",
   "metadata": {},
   "source": [
    "# Read and Clean Data"
   ]
  },
  {
   "cell_type": "code",
   "execution_count": 5,
   "metadata": {
    "collapsed": false
   },
   "outputs": [],
   "source": [
    "#Read total dataset - will be used in model calibration\n",
    "\n",
    "conc_profile = pd.read_csv('ProcessedData_Example.csv')[[r'Experiment','EtOH', 'AA','BA', 'HA', 'mu']]\n",
    "Data_All = conc_profile.set_index([r'Experiment', 'EtOH', 'AA','BA', 'HA'])\n",
    "\n",
    "#Read dataset per substrate - will be used in model selection step\n",
    "\n",
    "##AA\n",
    "Data_AA = pd.read_csv('ProcessedData_Example.csv')[[r'Experiment','AA', 'mu']]\n",
    "Data_AA_A = Data_AA[Data_AA.Experiment==1]\n",
    "Data_AA_B = Data_AA[Data_AA.Experiment==2]\n",
    "Data_AA = pd.concat([Data_AA_A, Data_AA_B])\n",
    "Data_AA.columns=['Experiment','S', 'mu']\n",
    "Data_AA = Data_AA.set_index([r'Experiment', 'S'])\n",
    "Data_AA = Data_AA.sort_index(level='S')\n",
    "\n",
    "##BA\n",
    "Data_BA = pd.read_csv('ProcessedData_Example.csv')[[r'Experiment','AA','BA', 'mu']]\n",
    "Data_BA_E = Data_BA[Data_BA.Experiment==5]\n",
    "Data_BA_F = Data_BA[Data_BA.Experiment==6]\n",
    "Data_BA = pd.concat([Data_BA_E, Data_BA_F])\n",
    "Data_BA.columns=['Experiment','AA','S', 'mu']\n",
    "Data_BA = Data_BA.set_index([r'Experiment', 'AA','S'])\n",
    "Data_BA = Data_BA.sort_index(level=['AA','S'])\n",
    "\n",
    "##HA\n",
    "Data_HA = pd.read_csv('ProcessedData_Example.csv')[[r'Experiment','HA', 'mu']]\n",
    "Data_HA = Data_HA[Data_HA.Experiment==7]\n",
    "Data_HA.columns=['Experiment','S', 'mu']\n",
    "Data_HA = Data_HA.set_index([r'Experiment', 'S'])\n",
    "Data_HA = Data_HA.sort_index(level='S')"
   ]
  },
  {
   "cell_type": "code",
   "execution_count": 6,
   "metadata": {
    "collapsed": false
   },
   "outputs": [
    {
     "data": {
      "text/plain": [
       "pandas.core.frame.DataFrame"
      ]
     },
     "execution_count": 6,
     "metadata": {},
     "output_type": "execute_result"
    }
   ],
   "source": [
    "type(Data_AA)"
   ]
  },
  {
   "cell_type": "markdown",
   "metadata": {},
   "source": [
    "# Model Selection"
   ]
  },
  {
   "cell_type": "markdown",
   "metadata": {},
   "source": [
    "## Acetic Acid"
   ]
  },
  {
   "cell_type": "markdown",
   "metadata": {},
   "source": [
    "### Definition of models"
   ]
  },
  {
   "cell_type": "code",
   "execution_count": 7,
   "metadata": {
    "collapsed": false
   },
   "outputs": [],
   "source": [
    "#Define kinetic AA-models for model selection\n",
    "Syst_AA_Monod = {'mu': ('mu_max*(S/(K_S + S))')} # Monod, 1949\n",
    "Syst_AA_Haldane= {'mu': ('mu_max*(S/(K_S+S+S^2/Ki))')} # Sivakumar et al., 1994\n",
    "Syst_AA_Mon_ToxLim= {'mu': ('mu_max*(S/(K_S + S))*(1-1/(1+exp(-(S-Ki))))')} #Proposed\n",
    "\n",
    "#Define initial parameter estimations for calibration of model selections\n",
    "parameters_AA_Mon = {'K_S': 3.5, #Cavalcante et al. (2016)\n",
    "                          'mu_max': max(Data_All.mu)} #Maximum of all obtained growth rates in experiments A and B\n",
    "parameters_AA_Hal = {'mu_max': max(Data_All.mu),\n",
    "                          'K_S': 3.5,\n",
    "                          'Ki': 330.} #Arbitrarily chosen inhibition concentration\n",
    "parameters_AA_Mon_ToxLim = {'mu_max': max(Data_All.mu),\n",
    "                         'K_S': 3.5,\n",
    "                         'Ki': 330.}"
   ]
  },
  {
   "cell_type": "markdown",
   "metadata": {},
   "source": [
    "### Monod"
   ]
  },
  {
   "cell_type": "code",
   "execution_count": 8,
   "metadata": {
    "collapsed": false
   },
   "outputs": [],
   "source": [
    "AA_Monod = AlgebraicModel('3D', Syst_AA_Monod, parameters_AA_Mon, ['S'])\n",
    "\n",
    "AA_Monod_data = Measurements(Data_AA)\n",
    "\n",
    "AA_Monod_data.add_measured_errors({'mu': 0.04}, method='absolute')\n",
    "AA_Monod_optim = ParameterOptimisation(AA_Monod, AA_Monod_data,\n",
    "                                optim_par=['mu_max', 'K_S'])"
   ]
  },
  {
   "cell_type": "code",
   "execution_count": 9,
   "metadata": {
    "collapsed": false
   },
   "outputs": [
    {
     "name": "stderr",
     "output_type": "stream",
     "text": [
      "pyideas\\optimisation.py:223: OptimizeWarning: Unknown solver options: fatol, xatol\n",
      "  method=method, **kwargs)\n"
     ]
    },
    {
     "data": {
      "text/plain": [
       " final_simplex: (array([[ 0.17209758, -2.06773423],\n",
       "       [ 0.17209758, -2.06767888],\n",
       "       [ 0.17209691, -2.06773905]]), array([ 566.58318551,  566.58318551,  566.58318551]))\n",
       "           fun: 566.58318550993272\n",
       "       message: 'Optimization terminated successfully.'\n",
       "          nfev: 127\n",
       "           nit: 66\n",
       "        status: 0\n",
       "       success: True\n",
       "             x: array([ 0.17209758, -2.06773423])"
      ]
     },
     "execution_count": 9,
     "metadata": {},
     "output_type": "execute_result"
    }
   ],
   "source": [
    "AA_Monod_optim.local_optimize(method='Nelder-Mead',\n",
    "                       options={'xatol': 1e-10, 'fatol': 1e-10})"
   ]
  },
  {
   "cell_type": "markdown",
   "metadata": {},
   "source": [
    "The value 'fun' is the residuals after fitting of the model to the data. For the conventional Monod model, the residuals value is 566.6."
   ]
  },
  {
   "cell_type": "code",
   "execution_count": 10,
   "metadata": {
    "collapsed": false,
    "scrolled": false
   },
   "outputs": [
    {
     "data": {
      "text/html": [
       "<div>\n",
       "<table border=\"1\" class=\"dataframe\">\n",
       "  <thead>\n",
       "    <tr style=\"text-align: right;\">\n",
       "      <th></th>\n",
       "      <th>value</th>\n",
       "      <th>lower</th>\n",
       "      <th>upper</th>\n",
       "      <th>delta</th>\n",
       "      <th>percent</th>\n",
       "      <th>t_value</th>\n",
       "      <th>t_reference</th>\n",
       "      <th>significant</th>\n",
       "    </tr>\n",
       "  </thead>\n",
       "  <tbody>\n",
       "    <tr>\n",
       "      <th>mu_max</th>\n",
       "      <td>0.172098</td>\n",
       "      <td>0.162839</td>\n",
       "      <td>0.181357</td>\n",
       "      <td>0.009259</td>\n",
       "      <td>5.380117</td>\n",
       "      <td>36.875989</td>\n",
       "      <td>1.983972</td>\n",
       "      <td>1.0</td>\n",
       "    </tr>\n",
       "    <tr>\n",
       "      <th>K_S</th>\n",
       "      <td>-2.067679</td>\n",
       "      <td>-3.504469</td>\n",
       "      <td>-0.630889</td>\n",
       "      <td>1.436790</td>\n",
       "      <td>69.488070</td>\n",
       "      <td>-2.855125</td>\n",
       "      <td>1.983972</td>\n",
       "      <td>0.0</td>\n",
       "    </tr>\n",
       "  </tbody>\n",
       "</table>\n",
       "</div>"
      ],
      "text/plain": [
       "           value     lower     upper     delta    percent    t_value  \\\n",
       "mu_max  0.172098  0.162839  0.181357  0.009259   5.380117  36.875989   \n",
       "K_S    -2.067679 -3.504469 -0.630889  1.436790  69.488070  -2.855125   \n",
       "\n",
       "        t_reference  significant  \n",
       "mu_max     1.983972          1.0  \n",
       "K_S        1.983972          0.0  "
      ]
     },
     "execution_count": 10,
     "metadata": {},
     "output_type": "execute_result"
    }
   ],
   "source": [
    "AA_Monod_conf = CalibratedConfidence(AA_Monod_optim)\n",
    "AA_Monod_conf.get_parameter_confidence()"
   ]
  },
  {
   "cell_type": "code",
   "execution_count": 11,
   "metadata": {
    "collapsed": false,
    "scrolled": true
   },
   "outputs": [
    {
     "data": {
      "text/plain": [
       "<matplotlib.axes._subplots.AxesSubplot at 0xa7c63c8>"
      ]
     },
     "execution_count": 11,
     "metadata": {},
     "output_type": "execute_result"
    },
    {
     "data": {
      "image/png": "[encoded data removed]",
      "text/plain": [
       "<matplotlib.figure.Figure at 0xa6c5cc0>"
      ]
     },
     "metadata": {},
     "output_type": "display_data"
    }
   ],
   "source": [
    "AA_Monod_optim.modmeas.plot(style='o')"
   ]
  },
  {
   "cell_type": "markdown",
   "metadata": {},
   "source": [
    "### Haldane"
   ]
  },
  {
   "cell_type": "code",
   "execution_count": 12,
   "metadata": {
    "collapsed": false
   },
   "outputs": [],
   "source": [
    "AA_Haldane = AlgebraicModel('3D', Syst_AA_Haldane, parameters_AA_Hal, ['S'])\n",
    "AA_Haldane_data = Measurements(Data_AA)\n",
    "AA_Haldane_data.add_measured_errors({'mu': 0.04}, method='absolute')\n",
    "AA_Haldane_optim = ParameterOptimisation(AA_Haldane, AA_Haldane_data,\n",
    "                                optim_par=['mu_max', 'K_S','Ki'])"
   ]
  },
  {
   "cell_type": "code",
   "execution_count": 13,
   "metadata": {
    "collapsed": false
   },
   "outputs": [
    {
     "ename": "TypeError",
     "evalue": "ufunc 'bitwise_xor' not supported for the input types, and the inputs could not be safely coerced to any supported types according to the casting rule ''safe''",
     "output_type": "error",
     "traceback": [
      "\u001b[1;31m---------------------------------------------------------------------------\u001b[0m",
      "\u001b[1;31mTypeError\u001b[0m                                 Traceback (most recent call last)",
      "\u001b[1;32m<ipython-input-13-e13f4838fe02>\u001b[0m in \u001b[0;36m<module>\u001b[1;34m()\u001b[0m\n\u001b[0;32m      1\u001b[0m AA_Haldane_optim.local_optimize(method='Nelder-Mead',\n\u001b[1;32m----> 2\u001b[1;33m                                options={'xatol': 1e-10, 'fatol': 1e-10})\n\u001b[0m",
      "\u001b[1;32mC:\\Users\\pcandry\\Documents\\Doctoraat\\Modelling\\biointense-master\\pyideas\\optimisation.pyc\u001b[0m in \u001b[0;36mlocal_optimize\u001b[1;34m(self, pardict, obj_crit, method, *args, **kwargs)\u001b[0m\n\u001b[0;32m    433\u001b[0m             self._local_optimize(inner_obj_fun,\n\u001b[0;32m    434\u001b[0m                                  \u001b[0mself\u001b[0m\u001b[1;33m.\u001b[0m\u001b[0m_dof_dict_to_array\u001b[0m\u001b[1;33m(\u001b[0m\u001b[0mpardict\u001b[0m\u001b[1;33m)\u001b[0m\u001b[1;33m,\u001b[0m\u001b[1;33m\u001b[0m\u001b[0m\n\u001b[1;32m--> 435\u001b[1;33m                                  method, *args, **kwargs)\n\u001b[0m\u001b[0;32m    436\u001b[0m \u001b[1;33m\u001b[0m\u001b[0m\n\u001b[0;32m    437\u001b[0m         \u001b[0mself\u001b[0m\u001b[1;33m.\u001b[0m\u001b[0m_set_modmeas\u001b[0m\u001b[1;33m(\u001b[0m\u001b[0mself\u001b[0m\u001b[1;33m.\u001b[0m\u001b[0m_run_model\u001b[0m\u001b[1;33m(\u001b[0m\u001b[1;33m)\u001b[0m\u001b[1;33m,\u001b[0m \u001b[0mself\u001b[0m\u001b[1;33m.\u001b[0m\u001b[0mmeasurements\u001b[0m\u001b[1;33m.\u001b[0m\u001b[0m_data\u001b[0m\u001b[1;33m)\u001b[0m\u001b[1;33m\u001b[0m\u001b[0m\n",
      "\u001b[1;32mC:\\Users\\pcandry\\Documents\\Doctoraat\\Modelling\\biointense-master\\pyideas\\optimisation.pyc\u001b[0m in \u001b[0;36m_local_optimize\u001b[1;34m(self, obj_fun, dof_array, method, *args, **kwargs)\u001b[0m\n\u001b[0;32m    221\u001b[0m         '''\n\u001b[0;32m    222\u001b[0m         optimize_info = optimize.minimize(obj_fun, dof_array,\n\u001b[1;32m--> 223\u001b[1;33m                                           method=method, **kwargs)\n\u001b[0m\u001b[0;32m    224\u001b[0m \u001b[1;33m\u001b[0m\u001b[0m\n\u001b[0;32m    225\u001b[0m         \u001b[1;32mreturn\u001b[0m \u001b[0moptimize_info\u001b[0m\u001b[1;33m\u001b[0m\u001b[0m\n",
      "\u001b[1;32mC:\\Users\\pcandry\\AppData\\Local\\Continuum\\Anaconda2\\lib\\site-packages\\scipy\\optimize\\_minimize.pyc\u001b[0m in \u001b[0;36mminimize\u001b[1;34m(fun, x0, args, method, jac, hess, hessp, bounds, constraints, tol, callback, options)\u001b[0m\n\u001b[0;32m    433\u001b[0m                       callback=callback, **options)\n\u001b[0;32m    434\u001b[0m     \u001b[1;32melif\u001b[0m \u001b[0mmeth\u001b[0m \u001b[1;33m==\u001b[0m \u001b[1;34m'nelder-mead'\u001b[0m\u001b[1;33m:\u001b[0m\u001b[1;33m\u001b[0m\u001b[0m\n\u001b[1;32m--> 435\u001b[1;33m         \u001b[1;32mreturn\u001b[0m \u001b[0m_minimize_neldermead\u001b[0m\u001b[1;33m(\u001b[0m\u001b[0mfun\u001b[0m\u001b[1;33m,\u001b[0m \u001b[0mx0\u001b[0m\u001b[1;33m,\u001b[0m \u001b[0margs\u001b[0m\u001b[1;33m,\u001b[0m \u001b[0mcallback\u001b[0m\u001b[1;33m,\u001b[0m \u001b[1;33m**\u001b[0m\u001b[0moptions\u001b[0m\u001b[1;33m)\u001b[0m\u001b[1;33m\u001b[0m\u001b[0m\n\u001b[0m\u001b[0;32m    436\u001b[0m     \u001b[1;32melif\u001b[0m \u001b[0mmeth\u001b[0m \u001b[1;33m==\u001b[0m \u001b[1;34m'powell'\u001b[0m\u001b[1;33m:\u001b[0m\u001b[1;33m\u001b[0m\u001b[0m\n\u001b[0;32m    437\u001b[0m         \u001b[1;32mreturn\u001b[0m \u001b[0m_minimize_powell\u001b[0m\u001b[1;33m(\u001b[0m\u001b[0mfun\u001b[0m\u001b[1;33m,\u001b[0m \u001b[0mx0\u001b[0m\u001b[1;33m,\u001b[0m \u001b[0margs\u001b[0m\u001b[1;33m,\u001b[0m \u001b[0mcallback\u001b[0m\u001b[1;33m,\u001b[0m \u001b[1;33m**\u001b[0m\u001b[0moptions\u001b[0m\u001b[1;33m)\u001b[0m\u001b[1;33m\u001b[0m\u001b[0m\n",
      "\u001b[1;32mC:\\Users\\pcandry\\AppData\\Local\\Continuum\\Anaconda2\\lib\\site-packages\\scipy\\optimize\\optimize.pyc\u001b[0m in \u001b[0;36m_minimize_neldermead\u001b[1;34m(func, x0, args, callback, xtol, ftol, maxiter, maxfev, disp, return_all, **unknown_options)\u001b[0m\n\u001b[0;32m    437\u001b[0m     \u001b[1;32mif\u001b[0m \u001b[0mretall\u001b[0m\u001b[1;33m:\u001b[0m\u001b[1;33m\u001b[0m\u001b[0m\n\u001b[0;32m    438\u001b[0m         \u001b[0mallvecs\u001b[0m \u001b[1;33m=\u001b[0m \u001b[1;33m[\u001b[0m\u001b[0msim\u001b[0m\u001b[1;33m[\u001b[0m\u001b[1;36m0\u001b[0m\u001b[1;33m]\u001b[0m\u001b[1;33m]\u001b[0m\u001b[1;33m\u001b[0m\u001b[0m\n\u001b[1;32m--> 439\u001b[1;33m     \u001b[0mfsim\u001b[0m\u001b[1;33m[\u001b[0m\u001b[1;36m0\u001b[0m\u001b[1;33m]\u001b[0m \u001b[1;33m=\u001b[0m \u001b[0mfunc\u001b[0m\u001b[1;33m(\u001b[0m\u001b[0mx0\u001b[0m\u001b[1;33m)\u001b[0m\u001b[1;33m\u001b[0m\u001b[0m\n\u001b[0m\u001b[0;32m    440\u001b[0m     \u001b[0mnonzdelt\u001b[0m \u001b[1;33m=\u001b[0m \u001b[1;36m0.05\u001b[0m\u001b[1;33m\u001b[0m\u001b[0m\n\u001b[0;32m    441\u001b[0m     \u001b[0mzdelt\u001b[0m \u001b[1;33m=\u001b[0m \u001b[1;36m0.00025\u001b[0m\u001b[1;33m\u001b[0m\u001b[0m\n",
      "\u001b[1;32mC:\\Users\\pcandry\\AppData\\Local\\Continuum\\Anaconda2\\lib\\site-packages\\scipy\\optimize\\optimize.pyc\u001b[0m in \u001b[0;36mfunction_wrapper\u001b[1;34m(*wrapper_args)\u001b[0m\n\u001b[0;32m    287\u001b[0m     \u001b[1;32mdef\u001b[0m \u001b[0mfunction_wrapper\u001b[0m\u001b[1;33m(\u001b[0m\u001b[1;33m*\u001b[0m\u001b[0mwrapper_args\u001b[0m\u001b[1;33m)\u001b[0m\u001b[1;33m:\u001b[0m\u001b[1;33m\u001b[0m\u001b[0m\n\u001b[0;32m    288\u001b[0m         \u001b[0mncalls\u001b[0m\u001b[1;33m[\u001b[0m\u001b[1;36m0\u001b[0m\u001b[1;33m]\u001b[0m \u001b[1;33m+=\u001b[0m \u001b[1;36m1\u001b[0m\u001b[1;33m\u001b[0m\u001b[0m\n\u001b[1;32m--> 289\u001b[1;33m         \u001b[1;32mreturn\u001b[0m \u001b[0mfunction\u001b[0m\u001b[1;33m(\u001b[0m\u001b[1;33m*\u001b[0m\u001b[1;33m(\u001b[0m\u001b[0mwrapper_args\u001b[0m \u001b[1;33m+\u001b[0m \u001b[0margs\u001b[0m\u001b[1;33m)\u001b[0m\u001b[1;33m)\u001b[0m\u001b[1;33m\u001b[0m\u001b[0m\n\u001b[0m\u001b[0;32m    290\u001b[0m \u001b[1;33m\u001b[0m\u001b[0m\n\u001b[0;32m    291\u001b[0m     \u001b[1;32mreturn\u001b[0m \u001b[0mncalls\u001b[0m\u001b[1;33m,\u001b[0m \u001b[0mfunction_wrapper\u001b[0m\u001b[1;33m\u001b[0m\u001b[0m\n",
      "\u001b[1;32mC:\\Users\\pcandry\\Documents\\Doctoraat\\Modelling\\biointense-master\\pyideas\\optimisation.pyc\u001b[0m in \u001b[0;36minner_obj_fun\u001b[1;34m(parray)\u001b[0m\n\u001b[0;32m    425\u001b[0m         '''\n\u001b[0;32m    426\u001b[0m         \u001b[1;32mdef\u001b[0m \u001b[0minner_obj_fun\u001b[0m\u001b[1;33m(\u001b[0m\u001b[0mparray\u001b[0m\u001b[1;33m=\u001b[0m\u001b[0mNone\u001b[0m\u001b[1;33m)\u001b[0m\u001b[1;33m:\u001b[0m\u001b[1;33m\u001b[0m\u001b[0m\n\u001b[1;32m--> 427\u001b[1;33m             \u001b[1;32mreturn\u001b[0m \u001b[0mself\u001b[0m\u001b[1;33m.\u001b[0m\u001b[0m_obj_fun\u001b[0m\u001b[1;33m(\u001b[0m\u001b[0mobj_crit\u001b[0m\u001b[1;33m,\u001b[0m \u001b[0mparray\u001b[0m\u001b[1;33m=\u001b[0m\u001b[0mparray\u001b[0m\u001b[1;33m)\u001b[0m\u001b[1;33m\u001b[0m\u001b[0m\n\u001b[0m\u001b[0;32m    428\u001b[0m \u001b[1;33m\u001b[0m\u001b[0m\n\u001b[0;32m    429\u001b[0m         \u001b[1;32mif\u001b[0m \u001b[0mpardict\u001b[0m \u001b[1;32mis\u001b[0m \u001b[0mNone\u001b[0m\u001b[1;33m:\u001b[0m\u001b[1;33m\u001b[0m\u001b[0m\n",
      "\u001b[1;32mC:\\Users\\pcandry\\Documents\\Doctoraat\\Modelling\\biointense-master\\pyideas\\optimisation.pyc\u001b[0m in \u001b[0;36m_obj_fun\u001b[1;34m(self, obj_crit, parray)\u001b[0m\n\u001b[0;32m    462\u001b[0m         \"\"\"\n\u001b[0;32m    463\u001b[0m         \u001b[1;31m# Run model\u001b[0m\u001b[1;33m\u001b[0m\u001b[1;33m\u001b[0m\u001b[0m\n\u001b[1;32m--> 464\u001b[1;33m         \u001b[0mmodel_output\u001b[0m \u001b[1;33m=\u001b[0m \u001b[0mself\u001b[0m\u001b[1;33m.\u001b[0m\u001b[0m_run_model\u001b[0m\u001b[1;33m(\u001b[0m\u001b[0mdof_array\u001b[0m\u001b[1;33m=\u001b[0m\u001b[0mparray\u001b[0m\u001b[1;33m)\u001b[0m\u001b[1;33m\u001b[0m\u001b[0m\n\u001b[0m\u001b[0;32m    465\u001b[0m         \u001b[1;31m# model_output.sort_index(inplace=True)\u001b[0m\u001b[1;33m\u001b[0m\u001b[1;33m\u001b[0m\u001b[0m\n\u001b[0;32m    466\u001b[0m         \u001b[0mdata_output\u001b[0m \u001b[1;33m=\u001b[0m \u001b[0mself\u001b[0m\u001b[1;33m.\u001b[0m\u001b[0mmeasurements\u001b[0m\u001b[1;33m.\u001b[0m\u001b[0m_data\u001b[0m\u001b[1;33m\u001b[0m\u001b[0m\n",
      "\u001b[1;32mC:\\Users\\pcandry\\Documents\\Doctoraat\\Modelling\\biointense-master\\pyideas\\optimisation.pyc\u001b[0m in \u001b[0;36m_run_model\u001b[1;34m(self, dof_array)\u001b[0m\n\u001b[0;32m    205\u001b[0m             \u001b[0mself\u001b[0m\u001b[1;33m.\u001b[0m\u001b[0m_dof_dict_to_model\u001b[0m\u001b[1;33m(\u001b[0m\u001b[0mdof_dict\u001b[0m\u001b[1;33m)\u001b[0m\u001b[1;33m\u001b[0m\u001b[0m\n\u001b[0;32m    206\u001b[0m \u001b[1;33m\u001b[0m\u001b[0m\n\u001b[1;32m--> 207\u001b[1;33m         \u001b[1;32mreturn\u001b[0m \u001b[0mself\u001b[0m\u001b[1;33m.\u001b[0m\u001b[0mmodel\u001b[0m\u001b[1;33m.\u001b[0m\u001b[0m_run\u001b[0m\u001b[1;33m(\u001b[0m\u001b[1;33m)\u001b[0m\u001b[1;33m\u001b[0m\u001b[0m\n\u001b[0m\u001b[0;32m    208\u001b[0m \u001b[1;33m\u001b[0m\u001b[0m\n\u001b[0;32m    209\u001b[0m     \u001b[1;32mdef\u001b[0m \u001b[0m_obj_fun\u001b[0m\u001b[1;33m(\u001b[0m\u001b[0mself\u001b[0m\u001b[1;33m,\u001b[0m \u001b[0mobj_crit\u001b[0m\u001b[1;33m,\u001b[0m \u001b[0mparray\u001b[0m\u001b[1;33m)\u001b[0m\u001b[1;33m:\u001b[0m\u001b[1;33m\u001b[0m\u001b[0m\n",
      "\u001b[1;32mC:\\Users\\pcandry\\Documents\\Doctoraat\\Modelling\\biointense-master\\pyideas\\model.pyc\u001b[0m in \u001b[0;36m_run\u001b[1;34m(self, procedure)\u001b[0m\n\u001b[0;32m    182\u001b[0m             \u001b[0msolver\u001b[0m \u001b[1;33m=\u001b[0m \u001b[0mAlgebraicSolver\u001b[0m\u001b[1;33m(\u001b[0m\u001b[1;33m*\u001b[0m\u001b[0malg_args\u001b[0m\u001b[1;33m)\u001b[0m\u001b[1;33m\u001b[0m\u001b[0m\n\u001b[0;32m    183\u001b[0m \u001b[1;33m\u001b[0m\u001b[0m\n\u001b[1;32m--> 184\u001b[1;33m             \u001b[0mresult\u001b[0m \u001b[1;33m=\u001b[0m \u001b[0msolver\u001b[0m\u001b[1;33m.\u001b[0m\u001b[0msolve\u001b[0m\u001b[1;33m(\u001b[0m\u001b[1;33m)\u001b[0m\u001b[1;33m\u001b[0m\u001b[0m\n\u001b[0m\u001b[0;32m    185\u001b[0m         \u001b[1;32melse\u001b[0m\u001b[1;33m:\u001b[0m\u001b[1;33m\u001b[0m\u001b[0m\n\u001b[0;32m    186\u001b[0m             raise Exception(\"In an initialized Model, there should always \"\n",
      "\u001b[1;32mC:\\Users\\pcandry\\Documents\\Doctoraat\\Modelling\\biointense-master\\pyideas\\solver.pyc\u001b[0m in \u001b[0;36msolve\u001b[1;34m(self)\u001b[0m\n\u001b[0;32m    252\u001b[0m             \u001b[0mindependent\u001b[0m \u001b[0mvalues\u001b[0m\u001b[1;33m\u001b[0m\u001b[0m\n\u001b[0;32m    253\u001b[0m         \"\"\"\n\u001b[1;32m--> 254\u001b[1;33m         \u001b[1;32mreturn\u001b[0m \u001b[0mself\u001b[0m\u001b[1;33m.\u001b[0m\u001b[0m_solve_algebraic\u001b[0m\u001b[1;33m(\u001b[0m\u001b[1;33m)\u001b[0m\u001b[1;33m\u001b[0m\u001b[0m\n\u001b[0m\u001b[0;32m    255\u001b[0m \u001b[1;33m\u001b[0m\u001b[0m\n\u001b[0;32m    256\u001b[0m \u001b[1;33m\u001b[0m\u001b[0m\n",
      "\u001b[1;32mC:\\Users\\pcandry\\Documents\\Doctoraat\\Modelling\\biointense-master\\pyideas\\solver.pyc\u001b[0m in \u001b[0;36m_solve_algebraic\u001b[1;34m(self)\u001b[0m\n\u001b[0;32m    238\u001b[0m         \"\"\"\n\u001b[0;32m    239\u001b[0m         model_output = self.fun_alg(self.independent,\n\u001b[1;32m--> 240\u001b[1;33m                                     *self.args, **self.kwargs)\n\u001b[0m\u001b[0;32m    241\u001b[0m \u001b[1;33m\u001b[0m\u001b[0m\n\u001b[0;32m    242\u001b[0m         \u001b[1;32mreturn\u001b[0m \u001b[0mmodel_output\u001b[0m\u001b[1;33m\u001b[0m\u001b[0m\n",
      "\u001b[1;32mC:\\Users\\pcandry\\Documents\\Doctoraat\\Modelling\\biointense-master\\pyideas\\model.pyc\u001b[0m in \u001b[0;36mfun_alg\u001b[1;34m(independent, parameters, *args, **kwargs)\u001b[0m\n",
      "\u001b[1;31mTypeError\u001b[0m: ufunc 'bitwise_xor' not supported for the input types, and the inputs could not be safely coerced to any supported types according to the casting rule ''safe''"
     ]
    }
   ],
   "source": [
    "AA_Haldane_optim.local_optimize(method='Nelder-Mead',\n",
    "                               options={'xatol': 1e-10, 'fatol': 1e-10})"
   ]
  },
  {
   "cell_type": "code",
   "execution_count": 14,
   "metadata": {
    "collapsed": false
   },
   "outputs": [
    {
     "data": {
      "text/plain": [
       "OrderedDict([('K_S', 3.5), ('Ki', 330.0), ('mu_max', 0.28258901600000003)])"
      ]
     },
     "execution_count": 14,
     "metadata": {},
     "output_type": "execute_result"
    }
   ],
   "source": [
    "AA_Haldane.parameters"
   ]
  },
  {
   "cell_type": "code",
   "execution_count": 15,
   "metadata": {
    "collapsed": false,
    "scrolled": true
   },
   "outputs": [
    {
     "ename": "TypeError",
     "evalue": "ufunc 'bitwise_xor' not supported for the input types, and the inputs could not be safely coerced to any supported types according to the casting rule ''safe''",
     "output_type": "error",
     "traceback": [
      "\u001b[1;31m---------------------------------------------------------------------------\u001b[0m",
      "\u001b[1;31mTypeError\u001b[0m                                 Traceback (most recent call last)",
      "\u001b[1;32m<ipython-input-15-086e2bfe1751>\u001b[0m in \u001b[0;36m<module>\u001b[1;34m()\u001b[0m\n\u001b[0;32m      1\u001b[0m \u001b[0mAA_Haldane_conf\u001b[0m \u001b[1;33m=\u001b[0m \u001b[0mCalibratedConfidence\u001b[0m\u001b[1;33m(\u001b[0m\u001b[0mAA_Haldane_optim\u001b[0m\u001b[1;33m)\u001b[0m\u001b[1;33m\u001b[0m\u001b[0m\n\u001b[1;32m----> 2\u001b[1;33m \u001b[0mAA_Haldane_conf\u001b[0m\u001b[1;33m.\u001b[0m\u001b[0mget_parameter_confidence\u001b[0m\u001b[1;33m(\u001b[0m\u001b[1;33m)\u001b[0m\u001b[1;33m\u001b[0m\u001b[0m\n\u001b[0m",
      "\u001b[1;32mC:\\Users\\pcandry\\Documents\\Doctoraat\\Modelling\\biointense-master\\pyideas\\confidence.pyc\u001b[0m in \u001b[0;36mget_parameter_confidence\u001b[1;34m(self, alpha)\u001b[0m\n\u001b[0;32m    183\u001b[0m         \u001b[0mn_p\u001b[0m \u001b[1;33m=\u001b[0m \u001b[0mdat_len\u001b[0m \u001b[1;33m-\u001b[0m \u001b[0mpar_len\u001b[0m\u001b[1;33m\u001b[0m\u001b[0m\n\u001b[0;32m    184\u001b[0m \u001b[1;33m\u001b[0m\u001b[0m\n\u001b[1;32m--> 185\u001b[1;33m         \u001b[0mFIM\u001b[0m \u001b[1;33m=\u001b[0m \u001b[0mself\u001b[0m\u001b[1;33m.\u001b[0m\u001b[0mget_FIM\u001b[0m\u001b[1;33m(\u001b[0m\u001b[1;33m)\u001b[0m\u001b[1;33m\u001b[0m\u001b[0m\n\u001b[0m\u001b[0;32m    186\u001b[0m \u001b[1;33m\u001b[0m\u001b[0m\n\u001b[0;32m    187\u001b[0m         \u001b[0mCI\u001b[0m \u001b[1;33m=\u001b[0m \u001b[0mself\u001b[0m\u001b[1;33m.\u001b[0m\u001b[0m_parameter_confidence\u001b[0m\u001b[1;33m(\u001b[0m\u001b[0mn_p\u001b[0m\u001b[1;33m,\u001b[0m \u001b[0mFIM\u001b[0m\u001b[1;33m,\u001b[0m \u001b[0malpha\u001b[0m\u001b[1;33m)\u001b[0m\u001b[1;33m\u001b[0m\u001b[0m\n",
      "\u001b[1;32mC:\\Users\\pcandry\\Documents\\Doctoraat\\Modelling\\biointense-master\\pyideas\\confidence.pyc\u001b[0m in \u001b[0;36mget_FIM\u001b[1;34m(self)\u001b[0m\n\u001b[0;32m    113\u001b[0m         \"\"\"\n\u001b[0;32m    114\u001b[0m         \u001b[1;31m# FIM = sum(FIM(t))\u001b[0m\u001b[1;33m\u001b[0m\u001b[1;33m\u001b[0m\u001b[0m\n\u001b[1;32m--> 115\u001b[1;33m         \u001b[1;32mreturn\u001b[0m \u001b[0mnp\u001b[0m\u001b[1;33m.\u001b[0m\u001b[0msum\u001b[0m\u001b[1;33m(\u001b[0m\u001b[0mself\u001b[0m\u001b[1;33m.\u001b[0m\u001b[0mget_FIM_time\u001b[0m\u001b[1;33m(\u001b[0m\u001b[1;33m)\u001b[0m\u001b[1;33m,\u001b[0m \u001b[0maxis\u001b[0m\u001b[1;33m=\u001b[0m\u001b[1;36m0\u001b[0m\u001b[1;33m)\u001b[0m\u001b[1;33m\u001b[0m\u001b[0m\n\u001b[0m\u001b[0;32m    116\u001b[0m \u001b[1;33m\u001b[0m\u001b[0m\n\u001b[0;32m    117\u001b[0m     \u001b[1;32mdef\u001b[0m \u001b[0m_calc_PEECM\u001b[0m\u001b[1;33m(\u001b[0m\u001b[0mself\u001b[0m\u001b[1;33m,\u001b[0m \u001b[0mFIM\u001b[0m\u001b[1;33m)\u001b[0m\u001b[1;33m:\u001b[0m\u001b[1;33m\u001b[0m\u001b[0m\n",
      "\u001b[1;32mC:\\Users\\pcandry\\Documents\\Doctoraat\\Modelling\\biointense-master\\pyideas\\confidence.pyc\u001b[0m in \u001b[0;36mget_FIM_time\u001b[1;34m(self)\u001b[0m\n\u001b[0;32m    105\u001b[0m         \"\"\"\n\u001b[0;32m    106\u001b[0m         \"\"\"\n\u001b[1;32m--> 107\u001b[1;33m         FIM_time = self._calc_FIM_time(self._get_sensmatrix(),\n\u001b[0m\u001b[0;32m    108\u001b[0m                                        self._get_uncertainty())\n\u001b[0;32m    109\u001b[0m         \u001b[1;32mreturn\u001b[0m \u001b[0mFIM_time\u001b[0m\u001b[1;33m\u001b[0m\u001b[0m\n",
      "\u001b[1;32mC:\\Users\\pcandry\\Documents\\Doctoraat\\Modelling\\biointense-master\\pyideas\\confidence.pyc\u001b[0m in \u001b[0;36m_get_sensmatrix\u001b[1;34m(self)\u001b[0m\n\u001b[0;32m     50\u001b[0m         \"\"\"\n\u001b[0;32m     51\u001b[0m         \"\"\"\n\u001b[1;32m---> 52\u001b[1;33m         \u001b[0msensmatrix\u001b[0m \u001b[1;33m=\u001b[0m \u001b[0mself\u001b[0m\u001b[1;33m.\u001b[0m\u001b[0m_sens\u001b[0m\u001b[1;33m.\u001b[0m\u001b[0m_get_sensitivity\u001b[0m\u001b[1;33m(\u001b[0m\u001b[1;33m)\u001b[0m\u001b[1;33m\u001b[0m\u001b[0m\n\u001b[0m\u001b[0;32m     53\u001b[0m \u001b[1;33m\u001b[0m\u001b[0m\n\u001b[0;32m     54\u001b[0m         \u001b[1;32mreturn\u001b[0m \u001b[0msensmatrix\u001b[0m\u001b[1;33m\u001b[0m\u001b[0m\n",
      "\u001b[1;32mC:\\Users\\pcandry\\Documents\\Doctoraat\\Modelling\\biointense-master\\pyideas\\sensitivity.pyc\u001b[0m in \u001b[0;36m_get_sensitivity\u001b[1;34m(self, method)\u001b[0m\n\u001b[0;32m    415\u001b[0m \u001b[1;33m\u001b[0m\u001b[0m\n\u001b[0;32m    416\u001b[0m         \"\"\"\n\u001b[1;32m--> 417\u001b[1;33m         \u001b[0moutput_std\u001b[0m \u001b[1;33m=\u001b[0m \u001b[0mself\u001b[0m\u001b[1;33m.\u001b[0m\u001b[0mmodel\u001b[0m\u001b[1;33m.\u001b[0m\u001b[0m_run\u001b[0m\u001b[1;33m(\u001b[0m\u001b[1;33m)\u001b[0m\u001b[1;33m\u001b[0m\u001b[0m\n\u001b[0m\u001b[0;32m    418\u001b[0m         num_sens = np.empty([len(self.model._independent_values.values()[0]),\n\u001b[0;32m    419\u001b[0m                              \u001b[0mlen\u001b[0m\u001b[1;33m(\u001b[0m\u001b[0mself\u001b[0m\u001b[1;33m.\u001b[0m\u001b[0mmodel\u001b[0m\u001b[1;33m.\u001b[0m\u001b[0mvariables_of_interest\u001b[0m\u001b[1;33m)\u001b[0m\u001b[1;33m,\u001b[0m\u001b[1;33m\u001b[0m\u001b[0m\n",
      "\u001b[1;32mC:\\Users\\pcandry\\Documents\\Doctoraat\\Modelling\\biointense-master\\pyideas\\model.pyc\u001b[0m in \u001b[0;36m_run\u001b[1;34m(self, procedure)\u001b[0m\n\u001b[0;32m    182\u001b[0m             \u001b[0msolver\u001b[0m \u001b[1;33m=\u001b[0m \u001b[0mAlgebraicSolver\u001b[0m\u001b[1;33m(\u001b[0m\u001b[1;33m*\u001b[0m\u001b[0malg_args\u001b[0m\u001b[1;33m)\u001b[0m\u001b[1;33m\u001b[0m\u001b[0m\n\u001b[0;32m    183\u001b[0m \u001b[1;33m\u001b[0m\u001b[0m\n\u001b[1;32m--> 184\u001b[1;33m             \u001b[0mresult\u001b[0m \u001b[1;33m=\u001b[0m \u001b[0msolver\u001b[0m\u001b[1;33m.\u001b[0m\u001b[0msolve\u001b[0m\u001b[1;33m(\u001b[0m\u001b[1;33m)\u001b[0m\u001b[1;33m\u001b[0m\u001b[0m\n\u001b[0m\u001b[0;32m    185\u001b[0m         \u001b[1;32melse\u001b[0m\u001b[1;33m:\u001b[0m\u001b[1;33m\u001b[0m\u001b[0m\n\u001b[0;32m    186\u001b[0m             raise Exception(\"In an initialized Model, there should always \"\n",
      "\u001b[1;32mC:\\Users\\pcandry\\Documents\\Doctoraat\\Modelling\\biointense-master\\pyideas\\solver.pyc\u001b[0m in \u001b[0;36msolve\u001b[1;34m(self)\u001b[0m\n\u001b[0;32m    252\u001b[0m             \u001b[0mindependent\u001b[0m \u001b[0mvalues\u001b[0m\u001b[1;33m\u001b[0m\u001b[0m\n\u001b[0;32m    253\u001b[0m         \"\"\"\n\u001b[1;32m--> 254\u001b[1;33m         \u001b[1;32mreturn\u001b[0m \u001b[0mself\u001b[0m\u001b[1;33m.\u001b[0m\u001b[0m_solve_algebraic\u001b[0m\u001b[1;33m(\u001b[0m\u001b[1;33m)\u001b[0m\u001b[1;33m\u001b[0m\u001b[0m\n\u001b[0m\u001b[0;32m    255\u001b[0m \u001b[1;33m\u001b[0m\u001b[0m\n\u001b[0;32m    256\u001b[0m \u001b[1;33m\u001b[0m\u001b[0m\n",
      "\u001b[1;32mC:\\Users\\pcandry\\Documents\\Doctoraat\\Modelling\\biointense-master\\pyideas\\solver.pyc\u001b[0m in \u001b[0;36m_solve_algebraic\u001b[1;34m(self)\u001b[0m\n\u001b[0;32m    238\u001b[0m         \"\"\"\n\u001b[0;32m    239\u001b[0m         model_output = self.fun_alg(self.independent,\n\u001b[1;32m--> 240\u001b[1;33m                                     *self.args, **self.kwargs)\n\u001b[0m\u001b[0;32m    241\u001b[0m \u001b[1;33m\u001b[0m\u001b[0m\n\u001b[0;32m    242\u001b[0m         \u001b[1;32mreturn\u001b[0m \u001b[0mmodel_output\u001b[0m\u001b[1;33m\u001b[0m\u001b[0m\n",
      "\u001b[1;32mC:\\Users\\pcandry\\Documents\\Doctoraat\\Modelling\\biointense-master\\pyideas\\model.pyc\u001b[0m in \u001b[0;36mfun_alg\u001b[1;34m(independent, parameters, *args, **kwargs)\u001b[0m\n",
      "\u001b[1;31mTypeError\u001b[0m: ufunc 'bitwise_xor' not supported for the input types, and the inputs could not be safely coerced to any supported types according to the casting rule ''safe''"
     ]
    }
   ],
   "source": [
    "AA_Haldane_conf = CalibratedConfidence(AA_Haldane_optim)\n",
    "AA_Haldane_conf.get_parameter_confidence()"
   ]
  },
  {
   "cell_type": "markdown",
   "metadata": {},
   "source": [
    "### Monod coupled to toxicity limit term"
   ]
  },
  {
   "cell_type": "code",
   "execution_count": 16,
   "metadata": {
    "collapsed": false
   },
   "outputs": [],
   "source": [
    "AA_Mon_ToxLim = AlgebraicModel('3D', Syst_AA_Mon_ToxLim, parameters_AA_Mon_ToxLim, ['S'])\n",
    "AA_Mon_ToxLim_data = Measurements(Data_AA)\n",
    "AA_Mon_ToxLim_data.add_measured_errors({'mu': 0.04}, method='absolute')\n",
    "AA_Mon_ToxLim_optim = ParameterOptimisation(AA_Mon_ToxLim, AA_Mon_ToxLim_data,\n",
    "                                optim_par=['mu_max', 'K_S'])"
   ]
  },
  {
   "cell_type": "code",
   "execution_count": 17,
   "metadata": {
    "collapsed": false
   },
   "outputs": [
    {
     "data": {
      "text/plain": [
       " final_simplex: (array([[ 0.24520267,  4.69110589],\n",
       "       [ 0.24520203,  4.69106026],\n",
       "       [ 0.2452028 ,  4.6911733 ]]), array([ 27.26472309,  27.26472309,  27.26472309]))\n",
       "           fun: 27.264723093501988\n",
       "       message: 'Optimization terminated successfully.'\n",
       "          nfev: 81\n",
       "           nit: 43\n",
       "        status: 0\n",
       "       success: True\n",
       "             x: array([ 0.24520267,  4.69110589])"
      ]
     },
     "execution_count": 17,
     "metadata": {},
     "output_type": "execute_result"
    }
   ],
   "source": [
    "AA_Mon_ToxLim_optim.local_optimize(method='Nelder-Mead',\n",
    "                       options={'xatol': 1e-10, 'fatol': 1e-10})"
   ]
  },
  {
   "cell_type": "markdown",
   "metadata": {},
   "source": [
    "For the Monod-model combined with a toxicity limit term, the residuals value drops to 27.3. Since Haldane did not obtain any fit, and the residuals value of the conventional Monod model was 566.6, this model is selected for further modelling of kinetics with growth on AA."
   ]
  },
  {
   "cell_type": "code",
   "execution_count": 18,
   "metadata": {
    "collapsed": false
   },
   "outputs": [
    {
     "data": {
      "text/plain": [
       "OrderedDict([('K_S', 4.6911058864579669),\n",
       "             ('Ki', 330.0),\n",
       "             ('mu_max', 0.24520266598090462)])"
      ]
     },
     "execution_count": 18,
     "metadata": {},
     "output_type": "execute_result"
    }
   ],
   "source": [
    "AA_Mon_ToxLim.parameters"
   ]
  },
  {
   "cell_type": "code",
   "execution_count": 19,
   "metadata": {
    "collapsed": false,
    "scrolled": true
   },
   "outputs": [
    {
     "data": {
      "text/html": [
       "<div>\n",
       "<table border=\"1\" class=\"dataframe\">\n",
       "  <thead>\n",
       "    <tr style=\"text-align: right;\">\n",
       "      <th></th>\n",
       "      <th>value</th>\n",
       "      <th>lower</th>\n",
       "      <th>upper</th>\n",
       "      <th>delta</th>\n",
       "      <th>percent</th>\n",
       "      <th>t_value</th>\n",
       "      <th>t_reference</th>\n",
       "      <th>significant</th>\n",
       "    </tr>\n",
       "  </thead>\n",
       "  <tbody>\n",
       "    <tr>\n",
       "      <th>mu_max</th>\n",
       "      <td>0.245203</td>\n",
       "      <td>0.231567</td>\n",
       "      <td>0.258839</td>\n",
       "      <td>0.013636</td>\n",
       "      <td>5.561140</td>\n",
       "      <td>35.675627</td>\n",
       "      <td>1.983972</td>\n",
       "      <td>1.0</td>\n",
       "    </tr>\n",
       "    <tr>\n",
       "      <th>K_S</th>\n",
       "      <td>4.691106</td>\n",
       "      <td>1.868462</td>\n",
       "      <td>7.513750</td>\n",
       "      <td>2.822644</td>\n",
       "      <td>60.170112</td>\n",
       "      <td>3.297271</td>\n",
       "      <td>1.983972</td>\n",
       "      <td>1.0</td>\n",
       "    </tr>\n",
       "  </tbody>\n",
       "</table>\n",
       "</div>"
      ],
      "text/plain": [
       "           value     lower     upper     delta    percent    t_value  \\\n",
       "mu_max  0.245203  0.231567  0.258839  0.013636   5.561140  35.675627   \n",
       "K_S     4.691106  1.868462  7.513750  2.822644  60.170112   3.297271   \n",
       "\n",
       "        t_reference  significant  \n",
       "mu_max     1.983972          1.0  \n",
       "K_S        1.983972          1.0  "
      ]
     },
     "execution_count": 19,
     "metadata": {},
     "output_type": "execute_result"
    }
   ],
   "source": [
    "AA_Mon_ToxLim_conf = CalibratedConfidence(AA_Mon_ToxLim_optim)\n",
    "AA_Mon_ToxLim_conf.get_parameter_confidence()"
   ]
  },
  {
   "cell_type": "code",
   "execution_count": 20,
   "metadata": {
    "collapsed": false,
    "scrolled": false
   },
   "outputs": [
    {
     "data": {
      "text/plain": [
       "<matplotlib.axes._subplots.AxesSubplot at 0xbac7898>"
      ]
     },
     "execution_count": 20,
     "metadata": {},
     "output_type": "execute_result"
    },
    {
     "data": {
      "image/png": "[encoded data removed]",
      "text/plain": [
       "<matplotlib.figure.Figure at 0xba94ba8>"
      ]
     },
     "metadata": {},
     "output_type": "display_data"
    }
   ],
   "source": [
    "AA_Mon_ToxLim_optim.modmeas.plot(style='o')"
   ]
  },
  {
   "cell_type": "markdown",
   "metadata": {},
   "source": [
    "## Butyric Acid"
   ]
  },
  {
   "cell_type": "markdown",
   "metadata": {},
   "source": [
    "### Definition of models"
   ]
  },
  {
   "cell_type": "code",
   "execution_count": 21,
   "metadata": {
    "collapsed": false
   },
   "outputs": [],
   "source": [
    "#Define kinetic BA-models for model selection\n",
    "Syst_BA_ToxLim= {'mu': ('mu_max*(1-1/(1+exp(-(S-Ki))))*(AA/(K_AA + AA))*(1-1/(1+exp(-(AA-Ki_AA))))')} #Proposed in this study\n",
    "Syst_BA_LinInh= {'mu': ('mu_max*(1-K*S)*(1-1/(1+exp(-(S-1/K))))*(AA/(K_AA + AA))*(1-1/(1+exp(-(AA-Ki_AA))))')} # Hinshelwood (1952)\n",
    "\n",
    "#Define initial parameter estimations for calibration of model selections\n",
    "parameters_BA_ToxLim = {'mu_max': max(Data_All.mu),\n",
    "                       'Ki':150., # Estimated based on available data\n",
    "                         'K_AA':4.7, #Affinity index for AA obtained from model selection performed above\n",
    "                        'Ki_AA':330.}\n",
    "parameters_BA_LinInh = {'mu_max': max(Data_All.mu),\n",
    "                       'K':1/150,\n",
    "                         'K_AA':4.7,\n",
    "                        'Ki_AA':330.}"
   ]
  },
  {
   "cell_type": "markdown",
   "metadata": {},
   "source": [
    "### Toxicity limit"
   ]
  },
  {
   "cell_type": "code",
   "execution_count": 22,
   "metadata": {
    "collapsed": false
   },
   "outputs": [],
   "source": [
    "BA_ToxLim = AlgebraicModel('3D', Syst_BA_ToxLim, parameters_BA_ToxLim, ['S','AA'])\n",
    "BA_ToxLim_data = Measurements(Data_BA)\n",
    "BA_ToxLim_data.add_measured_errors({'mu': 0.04}, method='absolute')\n",
    "BA_ToxLim_optim = ParameterOptimisation(BA_ToxLim, BA_ToxLim_data,\n",
    "                                optim_par=['mu_max', 'Ki'])"
   ]
  },
  {
   "cell_type": "code",
   "execution_count": 23,
   "metadata": {
    "collapsed": false
   },
   "outputs": [
    {
     "data": {
      "text/plain": [
       " final_simplex: (array([[   0.25682215,  124.88079719],\n",
       "       [   0.25682193,  124.88074838],\n",
       "       [   0.25682235,  124.88072862]]), array([ 39.80682764,  39.80682764,  39.80682764]))\n",
       "           fun: 39.806827641457403\n",
       "       message: 'Optimization terminated successfully.'\n",
       "          nfev: 100\n",
       "           nit: 53\n",
       "        status: 0\n",
       "       success: True\n",
       "             x: array([   0.25682215,  124.88079719])"
      ]
     },
     "execution_count": 23,
     "metadata": {},
     "output_type": "execute_result"
    }
   ],
   "source": [
    "BA_ToxLim_optim.local_optimize(method='Nelder-Mead',\n",
    "                       options={'xatol': 1e-10, 'fatol': 1e-10})"
   ]
  },
  {
   "cell_type": "code",
   "execution_count": 24,
   "metadata": {
    "collapsed": false
   },
   "outputs": [
    {
     "data": {
      "text/plain": [
       "OrderedDict([('K_AA', 4.7),\n",
       "             ('Ki', 124.88079719013604),\n",
       "             ('Ki_AA', 330.0),\n",
       "             ('mu_max', 0.25682214640366297)])"
      ]
     },
     "execution_count": 24,
     "metadata": {},
     "output_type": "execute_result"
    }
   ],
   "source": [
    "BA_ToxLim.parameters"
   ]
  },
  {
   "cell_type": "code",
   "execution_count": 25,
   "metadata": {
    "collapsed": false,
    "scrolled": true
   },
   "outputs": [
    {
     "data": {
      "text/html": [
       "<div>\n",
       "<table border=\"1\" class=\"dataframe\">\n",
       "  <thead>\n",
       "    <tr style=\"text-align: right;\">\n",
       "      <th></th>\n",
       "      <th>value</th>\n",
       "      <th>lower</th>\n",
       "      <th>upper</th>\n",
       "      <th>delta</th>\n",
       "      <th>percent</th>\n",
       "      <th>t_value</th>\n",
       "      <th>t_reference</th>\n",
       "      <th>significant</th>\n",
       "    </tr>\n",
       "  </thead>\n",
       "  <tbody>\n",
       "    <tr>\n",
       "      <th>mu_max</th>\n",
       "      <td>0.256822</td>\n",
       "      <td>0.229407</td>\n",
       "      <td>0.284237</td>\n",
       "      <td>0.027415</td>\n",
       "      <td>10.674806</td>\n",
       "      <td>18.773594</td>\n",
       "      <td>2.004045</td>\n",
       "      <td>1.0</td>\n",
       "    </tr>\n",
       "    <tr>\n",
       "      <th>Ki</th>\n",
       "      <td>124.880797</td>\n",
       "      <td>119.165176</td>\n",
       "      <td>130.596418</td>\n",
       "      <td>5.715621</td>\n",
       "      <td>4.576861</td>\n",
       "      <td>43.786443</td>\n",
       "      <td>2.004045</td>\n",
       "      <td>1.0</td>\n",
       "    </tr>\n",
       "  </tbody>\n",
       "</table>\n",
       "</div>"
      ],
      "text/plain": [
       "             value       lower       upper     delta    percent    t_value  \\\n",
       "mu_max    0.256822    0.229407    0.284237  0.027415  10.674806  18.773594   \n",
       "Ki      124.880797  119.165176  130.596418  5.715621   4.576861  43.786443   \n",
       "\n",
       "        t_reference  significant  \n",
       "mu_max     2.004045          1.0  \n",
       "Ki         2.004045          1.0  "
      ]
     },
     "execution_count": 25,
     "metadata": {},
     "output_type": "execute_result"
    }
   ],
   "source": [
    "BA_ToxLim_conf = CalibratedConfidence(BA_ToxLim_optim)\n",
    "BA_ToxLim_conf.get_parameter_confidence()"
   ]
  },
  {
   "cell_type": "code",
   "execution_count": 26,
   "metadata": {
    "collapsed": false,
    "scrolled": true
   },
   "outputs": [
    {
     "data": {
      "text/plain": [
       "<matplotlib.axes._subplots.AxesSubplot at 0xba94f28>"
      ]
     },
     "execution_count": 26,
     "metadata": {},
     "output_type": "execute_result"
    },
    {
     "data": {
      "image/png": "[encoded data removed]",
      "text/plain": [
       "<matplotlib.figure.Figure at 0xb347fd0>"
      ]
     },
     "metadata": {},
     "output_type": "display_data"
    }
   ],
   "source": [
    "BA_ToxLim_optim.modmeas.plot(style='o')"
   ]
  },
  {
   "cell_type": "markdown",
   "metadata": {},
   "source": [
    "### Linear Inhibition"
   ]
  },
  {
   "cell_type": "code",
   "execution_count": 27,
   "metadata": {
    "collapsed": false
   },
   "outputs": [],
   "source": [
    "BA_LinInh = AlgebraicModel('3D', Syst_BA_LinInh, parameters_BA_LinInh, ['S','AA'])\n",
    "BA_LinInh_data = Measurements(Data_BA)\n",
    "BA_LinInh_data.add_measured_errors({'mu': 0.04}, method='absolute')\n",
    "BA_LinInh_optim = ParameterOptimisation(BA_LinInh, BA_LinInh_data,\n",
    "                                optim_par=['mu_max', 'K'])"
   ]
  },
  {
   "cell_type": "code",
   "execution_count": 28,
   "metadata": {
    "collapsed": false
   },
   "outputs": [
    {
     "data": {
      "text/plain": [
       " final_simplex: (array([[ 0.3535274 ,  0.0054089 ],\n",
       "       [ 0.35360599,  0.00541231],\n",
       "       [ 0.35343183,  0.00541024]]), array([ 42.21308524,  42.21309008,  42.21310858]))\n",
       "           fun: 42.21308524312284\n",
       "       message: 'Optimization terminated successfully.'\n",
       "          nfev: 67\n",
       "           nit: 36\n",
       "        status: 0\n",
       "       success: True\n",
       "             x: array([ 0.3535274,  0.0054089])"
      ]
     },
     "execution_count": 28,
     "metadata": {},
     "output_type": "execute_result"
    }
   ],
   "source": [
    "BA_LinInh_optim.local_optimize(method='Nelder-Mead',\n",
    "                       options={'xatol': 1e-10, 'fatol': 1e-10})"
   ]
  },
  {
   "cell_type": "markdown",
   "metadata": {},
   "source": [
    "Using a toxicity limit term, a residuals value of 39.8 was obtained, while with a linear inhibition term, this was 42.2. Based on this, the toxicity limit term was selected for further kinetic models."
   ]
  },
  {
   "cell_type": "code",
   "execution_count": 29,
   "metadata": {
    "collapsed": false
   },
   "outputs": [
    {
     "data": {
      "text/plain": [
       "OrderedDict([('K', 0.0054123128419742081),\n",
       "             ('K_AA', 4.7),\n",
       "             ('Ki_AA', 330.0),\n",
       "             ('mu_max', 0.35360599272952487)])"
      ]
     },
     "execution_count": 29,
     "metadata": {},
     "output_type": "execute_result"
    }
   ],
   "source": [
    "BA_LinInh.parameters"
   ]
  },
  {
   "cell_type": "code",
   "execution_count": 30,
   "metadata": {
    "collapsed": false,
    "scrolled": true
   },
   "outputs": [
    {
     "data": {
      "text/html": [
       "<div>\n",
       "<table border=\"1\" class=\"dataframe\">\n",
       "  <thead>\n",
       "    <tr style=\"text-align: right;\">\n",
       "      <th></th>\n",
       "      <th>value</th>\n",
       "      <th>lower</th>\n",
       "      <th>upper</th>\n",
       "      <th>delta</th>\n",
       "      <th>percent</th>\n",
       "      <th>t_value</th>\n",
       "      <th>t_reference</th>\n",
       "      <th>significant</th>\n",
       "    </tr>\n",
       "  </thead>\n",
       "  <tbody>\n",
       "    <tr>\n",
       "      <th>mu_max</th>\n",
       "      <td>0.353606</td>\n",
       "      <td>0.306357</td>\n",
       "      <td>0.400855</td>\n",
       "      <td>0.047249</td>\n",
       "      <td>13.362026</td>\n",
       "      <td>14.998060</td>\n",
       "      <td>2.004045</td>\n",
       "      <td>1.0</td>\n",
       "    </tr>\n",
       "    <tr>\n",
       "      <th>K</th>\n",
       "      <td>0.005412</td>\n",
       "      <td>0.004291</td>\n",
       "      <td>0.006534</td>\n",
       "      <td>0.001121</td>\n",
       "      <td>20.717737</td>\n",
       "      <td>9.673087</td>\n",
       "      <td>2.004045</td>\n",
       "      <td>1.0</td>\n",
       "    </tr>\n",
       "  </tbody>\n",
       "</table>\n",
       "</div>"
      ],
      "text/plain": [
       "           value     lower     upper     delta    percent    t_value  \\\n",
       "mu_max  0.353606  0.306357  0.400855  0.047249  13.362026  14.998060   \n",
       "K       0.005412  0.004291  0.006534  0.001121  20.717737   9.673087   \n",
       "\n",
       "        t_reference  significant  \n",
       "mu_max     2.004045          1.0  \n",
       "K          2.004045          1.0  "
      ]
     },
     "execution_count": 30,
     "metadata": {},
     "output_type": "execute_result"
    }
   ],
   "source": [
    "BA_LinInh_conf = CalibratedConfidence(BA_LinInh_optim)\n",
    "BA_LinInh_conf.get_parameter_confidence()"
   ]
  },
  {
   "cell_type": "code",
   "execution_count": 31,
   "metadata": {
    "collapsed": false,
    "scrolled": false
   },
   "outputs": [
    {
     "data": {
      "text/plain": [
       "<matplotlib.axes._subplots.AxesSubplot at 0xbd46780>"
      ]
     },
     "execution_count": 31,
     "metadata": {},
     "output_type": "execute_result"
    },
    {
     "data": {
      "image/png": "[encoded data removed]",
      "text/plain": [
       "<matplotlib.figure.Figure at 0xbd39dd8>"
      ]
     },
     "metadata": {},
     "output_type": "display_data"
    }
   ],
   "source": [
    "BA_LinInh_optim.modmeas.plot(style='o')"
   ]
  },
  {
   "cell_type": "markdown",
   "metadata": {},
   "source": [
    "## Hexanoic Acid"
   ]
  },
  {
   "cell_type": "markdown",
   "metadata": {},
   "source": [
    "### Definition of models"
   ]
  },
  {
   "cell_type": "code",
   "execution_count": 32,
   "metadata": {
    "collapsed": true
   },
   "outputs": [],
   "source": [
    "Syst_HA_ToxLim= {'mu': ('mu_max*(1-1/(1+exp(-(S-Ki))))')} # This study\n",
    "Syst_HA_LinInh= {'mu': ('mu_max*(1-K*S)*(1-1/(1+exp(-(S-1/K))))')} # Hinshelwood (1952)\n",
    "\n",
    "parameters_HA_ToxLim = {'mu_max': max(Data_All.mu),\n",
    "                       'Ki':90.}\n",
    "parameters_HA_LinInh = {'mu_max': max(Data_All.mu),\n",
    "                       'K':1/90}"
   ]
  },
  {
   "cell_type": "markdown",
   "metadata": {},
   "source": [
    "### Threshold Inhibition"
   ]
  },
  {
   "cell_type": "code",
   "execution_count": 33,
   "metadata": {
    "collapsed": false
   },
   "outputs": [],
   "source": [
    "HA_ToxLim = AlgebraicModel('3D', Syst_HA_ToxLim, parameters_HA_ToxLim, ['S'])\n",
    "HA_ToxLim_data = Measurements(Data_HA)\n",
    "HA_ToxLim_data.add_measured_errors({'mu': 0.04}, method='absolute')\n",
    "HA_ToxLim_optim = ParameterOptimisation(HA_ToxLim, HA_ToxLim_data,\n",
    "                                optim_par=['mu_max', 'Ki'])"
   ]
  },
  {
   "cell_type": "code",
   "execution_count": 34,
   "metadata": {
    "collapsed": false
   },
   "outputs": [
    {
     "data": {
      "text/plain": [
       " final_simplex: (array([[  0.14028032,  61.57025658],\n",
       "       [  0.14028073,  61.570347  ],\n",
       "       [  0.14028173,  61.57027783]]), array([ 11.02439152,  11.02439153,  11.02439154]))\n",
       "           fun: 11.024391524075089\n",
       "       message: 'Optimization terminated successfully.'\n",
       "          nfev: 86\n",
       "           nit: 45\n",
       "        status: 0\n",
       "       success: True\n",
       "             x: array([  0.14028032,  61.57025658])"
      ]
     },
     "execution_count": 34,
     "metadata": {},
     "output_type": "execute_result"
    }
   ],
   "source": [
    "HA_ToxLim_optim.local_optimize(method='Nelder-Mead',\n",
    "                       options={'xatol': 1e-10, 'fatol': 1e-10})"
   ]
  },
  {
   "cell_type": "code",
   "execution_count": 35,
   "metadata": {
    "collapsed": false
   },
   "outputs": [
    {
     "data": {
      "text/plain": [
       "OrderedDict([('Ki', 61.570347001531964), ('mu_max', 0.14028072731830424)])"
      ]
     },
     "execution_count": 35,
     "metadata": {},
     "output_type": "execute_result"
    }
   ],
   "source": [
    "HA_ToxLim.parameters"
   ]
  },
  {
   "cell_type": "code",
   "execution_count": 36,
   "metadata": {
    "collapsed": false,
    "scrolled": true
   },
   "outputs": [
    {
     "data": {
      "text/html": [
       "<div>\n",
       "<table border=\"1\" class=\"dataframe\">\n",
       "  <thead>\n",
       "    <tr style=\"text-align: right;\">\n",
       "      <th></th>\n",
       "      <th>value</th>\n",
       "      <th>lower</th>\n",
       "      <th>upper</th>\n",
       "      <th>delta</th>\n",
       "      <th>percent</th>\n",
       "      <th>t_value</th>\n",
       "      <th>t_reference</th>\n",
       "      <th>significant</th>\n",
       "    </tr>\n",
       "  </thead>\n",
       "  <tbody>\n",
       "    <tr>\n",
       "      <th>mu_max</th>\n",
       "      <td>0.140281</td>\n",
       "      <td>0.119525</td>\n",
       "      <td>0.161036</td>\n",
       "      <td>0.020756</td>\n",
       "      <td>14.795712</td>\n",
       "      <td>13.582146</td>\n",
       "      <td>2.009575</td>\n",
       "      <td>1.0</td>\n",
       "    </tr>\n",
       "    <tr>\n",
       "      <th>Ki</th>\n",
       "      <td>61.570347</td>\n",
       "      <td>60.158044</td>\n",
       "      <td>62.982650</td>\n",
       "      <td>1.412303</td>\n",
       "      <td>2.293803</td>\n",
       "      <td>87.608881</td>\n",
       "      <td>2.009575</td>\n",
       "      <td>1.0</td>\n",
       "    </tr>\n",
       "  </tbody>\n",
       "</table>\n",
       "</div>"
      ],
      "text/plain": [
       "            value      lower      upper     delta    percent    t_value  \\\n",
       "mu_max   0.140281   0.119525   0.161036  0.020756  14.795712  13.582146   \n",
       "Ki      61.570347  60.158044  62.982650  1.412303   2.293803  87.608881   \n",
       "\n",
       "        t_reference  significant  \n",
       "mu_max     2.009575          1.0  \n",
       "Ki         2.009575          1.0  "
      ]
     },
     "execution_count": 36,
     "metadata": {},
     "output_type": "execute_result"
    }
   ],
   "source": [
    "HA_ToxLim_conf = CalibratedConfidence(HA_ToxLim_optim)\n",
    "HA_ToxLim_conf.get_parameter_confidence()"
   ]
  },
  {
   "cell_type": "code",
   "execution_count": 37,
   "metadata": {
    "collapsed": false,
    "scrolled": true
   },
   "outputs": [
    {
     "data": {
      "text/plain": [
       "<matplotlib.axes._subplots.AxesSubplot at 0xc0f2f28>"
      ]
     },
     "execution_count": 37,
     "metadata": {},
     "output_type": "execute_result"
    },
    {
     "data": {
      "image/png": "[encoded data removed]",
      "text/plain": [
       "<matplotlib.figure.Figure at 0xbfffb00>"
      ]
     },
     "metadata": {},
     "output_type": "display_data"
    }
   ],
   "source": [
    "HA_ToxLim_optim.modmeas.plot(style='o')"
   ]
  },
  {
   "cell_type": "markdown",
   "metadata": {},
   "source": [
    "### Linear Inhibition"
   ]
  },
  {
   "cell_type": "code",
   "execution_count": 38,
   "metadata": {
    "collapsed": false
   },
   "outputs": [],
   "source": [
    "HA_LinInh = AlgebraicModel('3D', Syst_HA_LinInh, parameters_HA_LinInh, ['S'])\n",
    "HA_LinInh_data = Measurements(Data_HA)\n",
    "HA_LinInh_data.add_measured_errors({'mu': 0.04}, method='absolute')\n",
    "HA_LinInh_optim = ParameterOptimisation(HA_LinInh, HA_LinInh_data,\n",
    "                                optim_par=['mu_max', 'K'])"
   ]
  },
  {
   "cell_type": "code",
   "execution_count": 39,
   "metadata": {
    "collapsed": false
   },
   "outputs": [
    {
     "data": {
      "text/plain": [
       " final_simplex: (array([[ 0.19393201,  0.0101802 ],\n",
       "       [ 0.1938734 ,  0.01018343],\n",
       "       [ 0.19395092,  0.01018651]]), array([ 2.83443259,  2.83446633,  2.83450646]))\n",
       "           fun: 2.8344325854328365\n",
       "       message: 'Optimization terminated successfully.'\n",
       "          nfev: 78\n",
       "           nit: 40\n",
       "        status: 0\n",
       "       success: True\n",
       "             x: array([ 0.19393201,  0.0101802 ])"
      ]
     },
     "execution_count": 39,
     "metadata": {},
     "output_type": "execute_result"
    }
   ],
   "source": [
    "HA_LinInh_optim.local_optimize(method='Nelder-Mead',\n",
    "                       options={'xatol': 1e-10, 'fatol': 1e-10})"
   ]
  },
  {
   "cell_type": "markdown",
   "metadata": {},
   "source": [
    "Comparing the residuals value of 2.8 obtained with the linear inhibition model to the 11.0 obtained by a toxicity limit model - as well as the visually better fit - gives a clear preference to the linear inhibition model as the better model."
   ]
  },
  {
   "cell_type": "code",
   "execution_count": 40,
   "metadata": {
    "collapsed": false
   },
   "outputs": [
    {
     "data": {
      "text/plain": [
       "OrderedDict([('K', 0.010183427679732768), ('mu_max', 0.19387340107174139)])"
      ]
     },
     "execution_count": 40,
     "metadata": {},
     "output_type": "execute_result"
    }
   ],
   "source": [
    "HA_LinInh.parameters"
   ]
  },
  {
   "cell_type": "code",
   "execution_count": 41,
   "metadata": {
    "collapsed": false,
    "scrolled": true
   },
   "outputs": [
    {
     "data": {
      "text/html": [
       "<div>\n",
       "<table border=\"1\" class=\"dataframe\">\n",
       "  <thead>\n",
       "    <tr style=\"text-align: right;\">\n",
       "      <th></th>\n",
       "      <th>value</th>\n",
       "      <th>lower</th>\n",
       "      <th>upper</th>\n",
       "      <th>delta</th>\n",
       "      <th>percent</th>\n",
       "      <th>t_value</th>\n",
       "      <th>t_reference</th>\n",
       "      <th>significant</th>\n",
       "    </tr>\n",
       "  </thead>\n",
       "  <tbody>\n",
       "    <tr>\n",
       "      <th>mu_max</th>\n",
       "      <td>0.193873</td>\n",
       "      <td>0.163399</td>\n",
       "      <td>0.224348</td>\n",
       "      <td>0.030475</td>\n",
       "      <td>15.718905</td>\n",
       "      <td>12.784448</td>\n",
       "      <td>2.009575</td>\n",
       "      <td>1.0</td>\n",
       "    </tr>\n",
       "    <tr>\n",
       "      <th>K</th>\n",
       "      <td>0.010183</td>\n",
       "      <td>0.008698</td>\n",
       "      <td>0.011669</td>\n",
       "      <td>0.001485</td>\n",
       "      <td>14.586149</td>\n",
       "      <td>13.777285</td>\n",
       "      <td>2.009575</td>\n",
       "      <td>1.0</td>\n",
       "    </tr>\n",
       "  </tbody>\n",
       "</table>\n",
       "</div>"
      ],
      "text/plain": [
       "           value     lower     upper     delta    percent    t_value  \\\n",
       "mu_max  0.193873  0.163399  0.224348  0.030475  15.718905  12.784448   \n",
       "K       0.010183  0.008698  0.011669  0.001485  14.586149  13.777285   \n",
       "\n",
       "        t_reference  significant  \n",
       "mu_max     2.009575          1.0  \n",
       "K          2.009575          1.0  "
      ]
     },
     "execution_count": 41,
     "metadata": {},
     "output_type": "execute_result"
    }
   ],
   "source": [
    "HA_LinInh_conf = CalibratedConfidence(HA_LinInh_optim)\n",
    "HA_LinInh_conf.get_parameter_confidence()"
   ]
  },
  {
   "cell_type": "code",
   "execution_count": 42,
   "metadata": {
    "collapsed": false,
    "scrolled": true
   },
   "outputs": [
    {
     "data": {
      "text/plain": [
       "<matplotlib.axes._subplots.AxesSubplot at 0xbd392e8>"
      ]
     },
     "execution_count": 42,
     "metadata": {},
     "output_type": "execute_result"
    },
    {
     "data": {
      "image/png": "[encoded data removed]",
      "text/plain": [
       "<matplotlib.figure.Figure at 0xc7fe8d0>"
      ]
     },
     "metadata": {},
     "output_type": "display_data"
    }
   ],
   "source": [
    "HA_LinInh_optim.modmeas.plot(style='o')"
   ]
  },
  {
   "cell_type": "markdown",
   "metadata": {},
   "source": [
    "# Overall model"
   ]
  },
  {
   "cell_type": "markdown",
   "metadata": {},
   "source": [
    "## Definition of overall model"
   ]
  },
  {
   "cell_type": "code",
   "execution_count": 43,
   "metadata": {
    "collapsed": false
   },
   "outputs": [],
   "source": [
    "Syst_Total = {'mu': ('mu_max*(AA/(Ks_AA + AA))*(1-1/(1+exp(-(AA-Ki_AA))))*'\n",
    "                     '(1-1/(1+exp(-(BA-Ki_BA))))*'\n",
    "                     '(1-K_HA*HA)*(1-1/(1+exp(-(HA-1/K_HA))))')} #Multiplication of all terms selected above.\n",
    "\n",
    "#Initial parameter estimates come from values obtained in model selection calibration\n",
    "parameters_Total = {'mu_max': max(AA_Mon_ToxLim.parameters['mu_max'],BA_ToxLim.parameters['mu_max'],HA_LinInh.parameters['mu_max']),\n",
    "                    'Ks_AA': AA_Mon_ToxLim.parameters['K_S'],    \n",
    "                    'Ki_AA':AA_Mon_ToxLim.parameters['Ki'],\n",
    "                    'Ki_BA':BA_ToxLim.parameters['Ki'],\n",
    "                    'K_HA':HA_LinInh.parameters['K']} "
   ]
  },
  {
   "cell_type": "code",
   "execution_count": 44,
   "metadata": {
    "collapsed": false
   },
   "outputs": [
    {
     "data": {
      "text/plain": [
       "{'K_HA': 0.010183427679732768,\n",
       " 'Ki_AA': 330.0,\n",
       " 'Ki_BA': 124.88079719013604,\n",
       " 'Ks_AA': 4.6911058864579669,\n",
       " 'mu_max': 0.25682214640366297}"
      ]
     },
     "execution_count": 44,
     "metadata": {},
     "output_type": "execute_result"
    }
   ],
   "source": [
    "parameters_Total"
   ]
  },
  {
   "cell_type": "markdown",
   "metadata": {},
   "source": [
    "## Calibration"
   ]
  },
  {
   "cell_type": "code",
   "execution_count": 45,
   "metadata": {
    "collapsed": false
   },
   "outputs": [],
   "source": [
    "Total = AlgebraicModel('3D', Syst_Total, parameters_Total, ['AA','BA','HA'])\n",
    "Total_data = Measurements(Data_All)\n",
    "Total_data.add_measured_errors({'mu': 0.04}, method='absolute')\n",
    "Total_optim = ParameterOptimisation(Total, Total_data,\n",
    "                                optim_par=['mu_max','Ks_AA', 'Ki_BA','K_HA'])"
   ]
  },
  {
   "cell_type": "code",
   "execution_count": 46,
   "metadata": {
    "collapsed": false
   },
   "outputs": [
    {
     "data": {
      "text/plain": [
       " final_simplex: (array([[  2.40086102e-01,   3.81233683e+00,   1.24705158e+02,\n",
       "          1.09492835e-02],\n",
       "       [  2.40085991e-01,   3.81232182e+00,   1.24705120e+02,\n",
       "          1.09492651e-02],\n",
       "       [  2.40085998e-01,   3.81233118e+00,   1.24705155e+02,\n",
       "          1.09492984e-02],\n",
       "       [  2.40085986e-01,   3.81231970e+00,   1.24705248e+02,\n",
       "          1.09492741e-02],\n",
       "       [  2.40086047e-01,   3.81231790e+00,   1.24705209e+02,\n",
       "          1.09492765e-02]]), array([ 73.59101938,  73.59101938,  73.59101938,  73.59101938,  73.59101938]))\n",
       "           fun: 73.591019378089257\n",
       "       message: 'Optimization terminated successfully.'\n",
       "          nfev: 224\n",
       "           nit: 127\n",
       "        status: 0\n",
       "       success: True\n",
       "             x: array([  2.40086102e-01,   3.81233683e+00,   1.24705158e+02,\n",
       "         1.09492835e-02])"
      ]
     },
     "execution_count": 46,
     "metadata": {},
     "output_type": "execute_result"
    }
   ],
   "source": [
    "Total_optim.local_optimize(method='Nelder-Mead',\n",
    "                       options={'xatol': 1e-10, 'fatol': 1e-10})"
   ]
  },
  {
   "cell_type": "code",
   "execution_count": 47,
   "metadata": {
    "collapsed": false
   },
   "outputs": [
    {
     "data": {
      "text/plain": [
       "OrderedDict([('K_HA', 0.010949265147387499),\n",
       "             ('Ki_AA', 330.0),\n",
       "             ('Ki_BA', 124.70512041691399),\n",
       "             ('Ks_AA', 3.8123218227739994),\n",
       "             ('mu_max', 0.24008599087731275)])"
      ]
     },
     "execution_count": 47,
     "metadata": {},
     "output_type": "execute_result"
    }
   ],
   "source": [
    "Total.parameters"
   ]
  },
  {
   "cell_type": "code",
   "execution_count": 48,
   "metadata": {
    "collapsed": true
   },
   "outputs": [],
   "source": [
    "Total_conf = CalibratedConfidence(Total_optim)"
   ]
  },
  {
   "cell_type": "code",
   "execution_count": 49,
   "metadata": {
    "collapsed": false,
    "scrolled": true
   },
   "outputs": [
    {
     "data": {
      "text/html": [
       "<div>\n",
       "<table border=\"1\" class=\"dataframe\">\n",
       "  <thead>\n",
       "    <tr style=\"text-align: right;\">\n",
       "      <th></th>\n",
       "      <th>value</th>\n",
       "      <th>lower</th>\n",
       "      <th>upper</th>\n",
       "      <th>delta</th>\n",
       "      <th>percent</th>\n",
       "      <th>t_value</th>\n",
       "      <th>t_reference</th>\n",
       "      <th>significant</th>\n",
       "    </tr>\n",
       "  </thead>\n",
       "  <tbody>\n",
       "    <tr>\n",
       "      <th>mu_max</th>\n",
       "      <td>0.240086</td>\n",
       "      <td>0.229471</td>\n",
       "      <td>0.250701</td>\n",
       "      <td>0.010615</td>\n",
       "      <td>4.421298</td>\n",
       "      <td>44.592036</td>\n",
       "      <td>1.971547</td>\n",
       "      <td>1.0</td>\n",
       "    </tr>\n",
       "    <tr>\n",
       "      <th>Ks_AA</th>\n",
       "      <td>3.812322</td>\n",
       "      <td>2.865528</td>\n",
       "      <td>4.759116</td>\n",
       "      <td>0.946794</td>\n",
       "      <td>24.835108</td>\n",
       "      <td>7.938547</td>\n",
       "      <td>1.971547</td>\n",
       "      <td>1.0</td>\n",
       "    </tr>\n",
       "    <tr>\n",
       "      <th>Ki_BA</th>\n",
       "      <td>124.705120</td>\n",
       "      <td>119.027592</td>\n",
       "      <td>130.382649</td>\n",
       "      <td>5.677529</td>\n",
       "      <td>4.552763</td>\n",
       "      <td>43.304398</td>\n",
       "      <td>1.971547</td>\n",
       "      <td>1.0</td>\n",
       "    </tr>\n",
       "    <tr>\n",
       "      <th>K_HA</th>\n",
       "      <td>0.010949</td>\n",
       "      <td>0.009653</td>\n",
       "      <td>0.012245</td>\n",
       "      <td>0.001296</td>\n",
       "      <td>11.834977</td>\n",
       "      <td>16.658644</td>\n",
       "      <td>1.971547</td>\n",
       "      <td>1.0</td>\n",
       "    </tr>\n",
       "  </tbody>\n",
       "</table>\n",
       "</div>"
      ],
      "text/plain": [
       "             value       lower       upper     delta    percent    t_value  \\\n",
       "mu_max    0.240086    0.229471    0.250701  0.010615   4.421298  44.592036   \n",
       "Ks_AA     3.812322    2.865528    4.759116  0.946794  24.835108   7.938547   \n",
       "Ki_BA   124.705120  119.027592  130.382649  5.677529   4.552763  43.304398   \n",
       "K_HA      0.010949    0.009653    0.012245  0.001296  11.834977  16.658644   \n",
       "\n",
       "        t_reference  significant  \n",
       "mu_max     1.971547          1.0  \n",
       "Ks_AA      1.971547          1.0  \n",
       "Ki_BA      1.971547          1.0  \n",
       "K_HA       1.971547          1.0  "
      ]
     },
     "execution_count": 49,
     "metadata": {},
     "output_type": "execute_result"
    }
   ],
   "source": [
    "Total_conf.get_parameter_confidence()"
   ]
  },
  {
   "cell_type": "code",
   "execution_count": 50,
   "metadata": {
    "collapsed": false
   },
   "outputs": [
    {
     "data": {
      "text/html": [
       "<div>\n",
       "<table border=\"1\" class=\"dataframe\">\n",
       "  <thead>\n",
       "    <tr style=\"text-align: right;\">\n",
       "      <th></th>\n",
       "      <th>mu_max</th>\n",
       "      <th>Ks_AA</th>\n",
       "      <th>Ki_BA</th>\n",
       "      <th>K_HA</th>\n",
       "    </tr>\n",
       "  </thead>\n",
       "  <tbody>\n",
       "    <tr>\n",
       "      <th>mu_max</th>\n",
       "      <td>1.000000</td>\n",
       "      <td>0.578691</td>\n",
       "      <td>0.056992</td>\n",
       "      <td>0.161880</td>\n",
       "    </tr>\n",
       "    <tr>\n",
       "      <th>Ks_AA</th>\n",
       "      <td>0.578691</td>\n",
       "      <td>1.000000</td>\n",
       "      <td>0.155685</td>\n",
       "      <td>0.056041</td>\n",
       "    </tr>\n",
       "    <tr>\n",
       "      <th>Ki_BA</th>\n",
       "      <td>0.056992</td>\n",
       "      <td>0.155685</td>\n",
       "      <td>1.000000</td>\n",
       "      <td>0.002282</td>\n",
       "    </tr>\n",
       "    <tr>\n",
       "      <th>K_HA</th>\n",
       "      <td>0.161880</td>\n",
       "      <td>0.056041</td>\n",
       "      <td>0.002282</td>\n",
       "      <td>1.000000</td>\n",
       "    </tr>\n",
       "  </tbody>\n",
       "</table>\n",
       "</div>"
      ],
      "text/plain": [
       "          mu_max     Ks_AA     Ki_BA      K_HA\n",
       "mu_max  1.000000  0.578691  0.056992  0.161880\n",
       "Ks_AA   0.578691  1.000000  0.155685  0.056041\n",
       "Ki_BA   0.056992  0.155685  1.000000  0.002282\n",
       "K_HA    0.161880  0.056041  0.002282  1.000000"
      ]
     },
     "execution_count": 50,
     "metadata": {},
     "output_type": "execute_result"
    }
   ],
   "source": [
    "Total_conf.get_parameter_correlation()"
   ]
  },
  {
   "cell_type": "code",
   "execution_count": 51,
   "metadata": {
    "collapsed": false,
    "scrolled": true
   },
   "outputs": [
    {
     "data": {
      "text/plain": [
       "<matplotlib.axes._subplots.AxesSubplot at 0xc100dd8>"
      ]
     },
     "execution_count": 51,
     "metadata": {},
     "output_type": "execute_result"
    },
    {
     "data": {
      "image/png": "[encoded data removed]",
      "text/plain": [
       "<matplotlib.figure.Figure at 0xc859a58>"
      ]
     },
     "metadata": {},
     "output_type": "display_data"
    }
   ],
   "source": [
    "Total_optim.modmeas.plot(style='o')"
   ]
  },
  {
   "cell_type": "markdown",
   "metadata": {},
   "source": [
    "# Dynamic mass-balance model"
   ]
  },
  {
   "cell_type": "markdown",
   "metadata": {},
   "source": [
    "## Model definition"
   ]
  },
  {
   "cell_type": "code",
   "execution_count": 52,
   "metadata": {
    "collapsed": false
   },
   "outputs": [],
   "source": [
    "Dynamic_System = {'dSEtOH': '(-(W1*mu_1/Y_EtOH) - (W2*mu_2/Y_EtOH))*X',\n",
    "          'dSAA': '(-2/3*(W1*mu_1/Y_EtOH)+1/6*(W2*mu_2/Y_EtOH))*X', \n",
    "          'dSBA': '(5/6*(W1*mu_1/Y_EtOH) - 5/6*(W2*mu_2/Y_EtOH))*X', \n",
    "          'dSHA': '5/6*(W2*mu_2/Y_EtOH)*X', \n",
    "          'dH2': '(2/6*(W1*mu_1/Y_EtOH) + 2/6*(W2*mu_2/Y_EtOH))*X', \n",
    "          'dH': '(1/6*(W1*mu_1/Y_EtOH) + 1/6*(W2*mu_2/Y_EtOH))*X', \n",
    "          'dX': 'mu*X',\n",
    "          'mu': 'W1*mu_1+W2*mu_2-b',\n",
    "          'W1':'(mu_1)/(mu_1+mu_2)',\n",
    "          'W2':'(mu_2)/(mu_1+mu_2)',          \n",
    "          'mu_1': 'mu_max*(SAA/(Ks_AA + SAA))*(1-1/(1+exp(-(SAA-Ki_AA))))'\n",
    "                  '*(1-1/(1+exp(-(SBA-Ki_BA))))'\n",
    "                  '*(1-K_HA*SHA)*(1-1/(1+exp(-(SHA-1/K_HA))))'\n",
    "                  '*(SEtOH/(Ks_EtOH + SEtOH))',\n",
    "          'mu_2': 'mu_max*(1-1/(1+exp(-(SBA-Ki_BA))))*(SBA/(Ks_BA + SBA))'\n",
    "                  '*(1-K_HA*SHA)*(1-1/(1+exp(-(SHA-1/K_HA))))'\n",
    "                  '*(1-1/(1+exp(-(SAA-Ki_AA))))'\n",
    "                  '*(SEtOH/(Ks_EtOH + SEtOH))',\n",
    "                 }\n",
    "     \n",
    "Dynamic_Par = {'Ks_AA': Total.parameters['Ks_AA'], #[mM]\n",
    "              'Ks_BA': 3.5, #[mM] -> Cavalcante et al. (2017)\n",
    "              'Ks_EtOH': 11.8, #[mM] Cavalcante et al. (2017)\n",
    "              'K_HA': Total.parameters['K_HA'], #[mM] -> From parameter estimation\n",
    "              'Ki_AA': Total.parameters['Ki_AA'], #[mM] -> From parameter estimation\n",
    "              'Ki_BA': Total.parameters['Ki_AA'], #[mM] -> From parameter estimation\n",
    "              'mu_max': Total.parameters['mu_max'], #[h^-1] -> From parameter estimation\n",
    "              'b': 0., #[h^-1] -> Can be added to the model, but parameter was neglected for this study\n",
    "              'Y_EtOH':2.75/1000, #[g Cells/mmol EtOH]\n",
    "             }"
   ]
  },
  {
   "cell_type": "markdown",
   "metadata": {},
   "source": [
    "## Run mass-balance model"
   ]
  },
  {
   "cell_type": "code",
   "execution_count": 53,
   "metadata": {
    "collapsed": false
   },
   "outputs": [],
   "source": [
    "Dynamic_Init = {'SEtOH': 330, #[mM] #DSM52 composition\n",
    "           'SAA': 110, #[mM]\n",
    "           'SBA': 0, #[mM]\n",
    "           'SHA': 0, #[mM]\n",
    "           'H2': 0., #[mM]\n",
    "           'H': 1e-7, #[M]\n",
    "           'X': 0.13} #[g cells/L]\n",
    "\n",
    "# Declaration of independent variable\n",
    "time=np.linspace(0, 70, 50000)\n",
    "independent = {'t': time}\n",
    "\n",
    "# Run simulation\n",
    "Dynamic = Model('Dynamic Simulation', Dynamic_System, Dynamic_Par)\n",
    "Dynamic.parameters\n",
    "Dynamic.initial_conditions = Dynamic_Init\n",
    "Dynamic.independent = independent\n",
    "Dynamic.initialize_model()\n",
    "Dynamic_Out = Dynamic.run()"
   ]
  },
  {
   "cell_type": "code",
   "execution_count": 54,
   "metadata": {
    "collapsed": false
   },
   "outputs": [],
   "source": [
    "#Process ouput\n",
    "\n",
    "X=Dynamic_Out['X']\n",
    "\n",
    "SEtOH=Dynamic_Out['SEtOH']\n",
    "SEtOH=pd.Series(SEtOH,index=time)\n",
    "\n",
    "SAA=Dynamic_Out['SAA']\n",
    "SAA=pd.Series(SAA,index=time)\n",
    "\n",
    "SBA=Dynamic_Out['SBA']\n",
    "SBA=pd.Series(SBA,index=time)\n",
    "\n",
    "SHA=Dynamic_Out['SHA']\n",
    "SHA=pd.Series(SHA,index=time)"
   ]
  },
  {
   "cell_type": "code",
   "execution_count": 55,
   "metadata": {
    "collapsed": false,
    "scrolled": false
   },
   "outputs": [
    {
     "data": {
      "image/png": "[encoded data removed]",
      "text/plain": [
       "<matplotlib.figure.Figure at 0xce3cb70>"
      ]
     },
     "metadata": {},
     "output_type": "display_data"
    }
   ],
   "source": [
    "Fig = plt.figure(figsize=((11,7*1.7)))\n",
    "\n",
    "#Plot experiment data\n",
    "a_X = plt.subplot(5,1,1)\n",
    "a_X.set_title(\"Biomass\",fontsize=14)\n",
    "a_X.plot(X)\n",
    "a_X.xaxis.set_visible(False)\n",
    "a_X.locator_params(axis='y',nbins=3)\n",
    "\n",
    "a_EtOH = plt.subplot(5,1,2)\n",
    "a_EtOH.set_title(\"EtOH\",fontsize=14)\n",
    "a_EtOH.plot(SEtOH)\n",
    "a_EtOH.xaxis.set_visible(False)\n",
    "a_EtOH.locator_params(axis='y',nbins=4)\n",
    "    \n",
    "a_AA = plt.subplot(5,1,3)\n",
    "a_AA.set_title(\"AA\",fontsize=14)\n",
    "a_AA.plot(SAA)\n",
    "a_AA.xaxis.set_visible(False)\n",
    "a_AA.locator_params(axis='y',nbins=3)\n",
    "    \n",
    "a_BA = plt.subplot(5,1,4)\n",
    "a_BA.set_title(\"BA\",fontsize=14)\n",
    "a_BA.plot(SBA)\n",
    "a_BA.xaxis.set_visible(False)\n",
    "a_BA.locator_params(axis='y',nbins=3)\n",
    "    \n",
    "a_HA=plt.subplot(5,1,5)\n",
    "a_HA.set_title(\"HA\",fontsize=14)\n",
    "a_HA.plot(SHA)\n",
    "a_HA.locator_params(axis='y',nbins=3)\n",
    "\n",
    "plt.xlabel('Time (h)', fontsize = 14)\n",
    "plt.savefig('DynamicOutput.png',bbox_inches='tight')"
   ]
  },
  {
   "cell_type": "markdown",
   "metadata": {},
   "source": [
    "# Continuous Model"
   ]
  },
  {
   "cell_type": "markdown",
   "metadata": {},
   "source": [
    "## Model definition"
   ]
  },
  {
   "cell_type": "code",
   "execution_count": 56,
   "metadata": {
    "collapsed": false
   },
   "outputs": [],
   "source": [
    "Continuous_System = {'dSEtOH': '(-(W1*mu_1/Y_EtOH) - (W2*mu_2/Y_EtOH))*X+D*(SEtOH_in-SEtOH)',\n",
    "          'dSAA': '(-2/3*(W1*mu_1/Y_EtOH)+1/6*(W2*mu_2/Y_EtOH))*X+D*(SAA_in-SAA)', \n",
    "          'dSBA': '(5/6*(W1*mu_1/Y_EtOH) - 5/6*(W2*mu_2/Y_EtOH))*X+D*(SBA_in-SBA)', \n",
    "          'dSHA': '5/6*(W2*mu_2/Y_EtOH)*X+D*(SHA_in-SHA)', \n",
    "          'dH2': '(2/6*(W1*mu_1/Y_EtOH) + 2/6*(W2*mu_2/Y_EtOH))*X', \n",
    "          'dH': '(1/6*(W1*mu_1/Y_EtOH) + 1/6*(W2*mu_2/Y_EtOH))*X', \n",
    "          'dX': '(mu-D)*X',\n",
    "          'mu': 'W1*mu_1+W2*mu_2-b',\n",
    "          'W1':'(mu_1)/(mu_1+mu_2)',\n",
    "          'W2':'(mu_2)/(mu_1+mu_2)',          \n",
    "          'mu_1': 'mu_max*(SAA/(Ks_AA + SAA))*(1-1/(1+exp(-(SAA-Ki_AA))))'\n",
    "                  '*(1-1/(1+exp(-(SBA-Ki_BA))))'\n",
    "                  '*(1-K_HA*SHA)*(1-1/(1+exp(-(SHA-1/K_HA))))'\n",
    "                  '*(SEtOH/(Ks_EtOH + SEtOH))',\n",
    "          'mu_2': 'mu_max*(1-1/(1+exp(-(SBA-Ki_BA))))*(SBA/(Ks_BA + SBA))'\n",
    "                  '*(1-K_HA*SHA)*(1-1/(1+exp(-(SHA-1/K_HA))))'\n",
    "                  '*(1-1/(1+exp(-(SAA-Ki_AA))))'\n",
    "                  '*(SEtOH/(Ks_EtOH + SEtOH))',\n",
    "                 }\n",
    "     \n",
    "Continuous_Par = {'Ks_AA': Total.parameters['Ks_AA'], #[mM]\n",
    "              'Ks_BA': 3.5, #[mM] -> Cavalcante et al. (2017)\n",
    "              'Ks_EtOH': 11.8, #[mM] Cavalcante et al. (2017)\n",
    "              'K_HA': Total.parameters['K_HA'], #[mM] -> From parameter estimation\n",
    "              'Ki_AA': Total.parameters['Ki_AA'], #[mM] -> From parameter estimation\n",
    "              'Ki_BA': Total.parameters['Ki_AA'], #[mM] -> From parameter estimation\n",
    "              'mu_max': Total.parameters['mu_max'], #[h^-1] -> From parameter estimation\n",
    "              'b': 0., #[h^-1] -> Can be added to the model, but parameter was neglected for this study\n",
    "              'Y_EtOH':2.75/1000, #[g Cells/mmol EtOH]\n",
    "              # Parameters for chemostat operation - influent concentrations and dilution rate\n",
    "              'SEtOH_in':330,\n",
    "              'SAA_in':100,\n",
    "              'SBA_in':0.,\n",
    "              'SHA_in':0.,\n",
    "              'D':0.05,\n",
    "             }\n",
    "\n"
   ]
  },
  {
   "cell_type": "code",
   "execution_count": 57,
   "metadata": {
    "collapsed": false
   },
   "outputs": [],
   "source": [
    "Continuous_Init = {'SEtOH': Continuous_Par['SEtOH_in'], #[mM]\n",
    "           'SAA': Continuous_Par['SAA_in'], #[mM]\n",
    "           'SBA': Continuous_Par['SBA_in'], #[mM]\n",
    "           'SHA': Continuous_Par['SHA_in'], #[mM]\n",
    "           'H2': 0., #[mM]\n",
    "           'H': 1e-7, #[M]\n",
    "           'X':  0.13} #[g cells/L]\n",
    "\n",
    "#Declaration of independent variable\n",
    "time=np.linspace(0, 500, 5000000)\n",
    "independent = {'t': time}\n",
    "\n",
    "Continuous = Model('Continuous Simulation', Continuous_System, Continuous_Par)\n",
    "Continuous.parameters\n",
    "Continuous.initial_conditions = Continuous_Init\n",
    "Continuous.independent = independent\n",
    "Continuous.initialize_model()\n",
    "Continuous_Out = Continuous.run()"
   ]
  },
  {
   "cell_type": "code",
   "execution_count": 58,
   "metadata": {
    "collapsed": false
   },
   "outputs": [],
   "source": [
    "X_Cont=Continuous_Out['X']\n",
    "\n",
    "SEtOH_Cont=Continuous_Out['SEtOH']\n",
    "SEtOH_Cont=pd.Series(SEtOH_Cont,index=time)\n",
    "\n",
    "SAA_Cont=Continuous_Out['SAA']\n",
    "SAA_Cont=pd.Series(SAA_Cont,index=time)\n",
    "\n",
    "SBA_Cont=Continuous_Out['SBA']\n",
    "SBA_Cont=pd.Series(SBA_Cont,index=time)\n",
    "\n",
    "SHA_Cont=Continuous_Out['SHA']\n",
    "SHA_Cont=pd.Series(SHA_Cont,index=time)"
   ]
  },
  {
   "cell_type": "code",
   "execution_count": 59,
   "metadata": {
    "collapsed": false,
    "scrolled": true
   },
   "outputs": [
    {
     "data": {
      "text/plain": [
       "<matplotlib.text.Text at 0xe1eff98>"
      ]
     },
     "execution_count": 59,
     "metadata": {},
     "output_type": "execute_result"
    },
    {
     "data": {
      "image/png": "[encoded data removed]",
      "text/plain": [
       "<matplotlib.figure.Figure at 0xa7f5c50>"
      ]
     },
     "metadata": {},
     "output_type": "display_data"
    }
   ],
   "source": [
    "Fig_Cont = plt.figure(figsize=((11,7*1.7)))\n",
    "\n",
    "#Plot experiment data\n",
    "a_X = plt.subplot(5,1,1)\n",
    "a_X.set_title(\"Biomass\",fontsize=14)\n",
    "a_X.plot(X_Cont)\n",
    "a_X.xaxis.set_visible(False)\n",
    "a_X.locator_params(axis='y',nbins=3)\n",
    "\n",
    "a_EtOH = plt.subplot(5,1,2)\n",
    "a_EtOH.set_title(\"EtOH\",fontsize=14)\n",
    "a_EtOH.plot(SEtOH_Cont)\n",
    "a_EtOH.xaxis.set_visible(False)\n",
    "a_EtOH.locator_params(axis='y',nbins=4)\n",
    "    \n",
    "a_AA = plt.subplot(5,1,3)\n",
    "a_AA.set_title(\"AA\",fontsize=14)\n",
    "a_AA.plot(SAA_Cont)\n",
    "a_AA.xaxis.set_visible(False)\n",
    "a_AA.locator_params(axis='y',nbins=3)\n",
    "    \n",
    "a_BA = plt.subplot(5,1,4)\n",
    "a_BA.set_title(\"BA\",fontsize=14)\n",
    "a_BA.plot(SBA_Cont)\n",
    "a_BA.xaxis.set_visible(False)\n",
    "a_BA.locator_params(axis='y',nbins=3)\n",
    "    \n",
    "a_HA=plt.subplot(5,1,5)\n",
    "a_HA.set_title(\"HA\",fontsize=14)\n",
    "a_HA.plot(SHA_Cont)\n",
    "a_HA.locator_params(axis='y',nbins=3)\n",
    "\n",
    "plt.xlabel('Time (h)')"
   ]
  },
  {
   "cell_type": "markdown",
   "metadata": {},
   "source": [
    "# Bibliography"
   ]
  },
  {
   "cell_type": "markdown",
   "metadata": {},
   "source": [
    "Cavalcante WDA, Leitão RC, Gehring TA, Angenent LT, Santaella ST. 2017. Anaerobic fermentation for n-caproic acid production: A review. Process Biochem. 54:106–119\n",
    "\n",
    "Daele T, Van Hoey S, Nopens I. 2015. pyIDEAS: an Open Source Python Package for 514 Model Analysis. In: . Comput Aided Chem Eng, Vol. 37, pp. 569–574.\n",
    "\n",
    "Hinshelwood CN. 1952. The Chemical Kinetics Of The Bacterial Cell. Clarendon, Oxford.\n",
    "\n",
    "Monod J. 1949. The Growth Of Bacterial Cultures. Annu. Rev. Microbiol. 3:371–394.\n",
    "\n",
    "Sivakumar A, Srinivasaraghavan T, Swaminathan T, Baradarajan A. 1994. Extended monod kinetics for substrate inhibited systems. Bioprocess Eng. 11:185–188."
   ]
  }
 ],
 "metadata": {
  "kernelspec": {
   "display_name": "Python 2",
   "language": "python",
   "name": "python2"
  },
  "language_info": {
   "codemirror_mode": {
    "name": "ipython",
    "version": 2
   },
   "file_extension": ".py",
   "mimetype": "text/x-python",
   "name": "python",
   "nbconvert_exporter": "python",
   "pygments_lexer": "ipython2",
   "version": "2.7.11"
  }
 },
 "nbformat": 4,
 "nbformat_minor": 0
}
